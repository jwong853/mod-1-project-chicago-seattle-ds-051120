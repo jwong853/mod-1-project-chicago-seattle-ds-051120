{
 "cells": [
  {
   "cell_type": "code",
   "execution_count": 1,
   "metadata": {},
   "outputs": [],
   "source": [
    "%load_ext autoreload\n",
    "%autoreload 2"
   ]
  },
  {
   "cell_type": "code",
   "execution_count": 2,
   "metadata": {},
   "outputs": [],
   "source": [
    "import os\n",
    "import sys\n",
    "module_path = os.path.abspath(os.path.join(os.pardir, os.pardir))\n",
    "if module_path not in sys.path:\n",
    "    sys.path.append(module_path)"
   ]
  },
  {
   "cell_type": "code",
   "execution_count": 3,
   "metadata": {},
   "outputs": [],
   "source": [
    "import psycopg2\n",
    "import pandas as pd"
   ]
  },
  {
   "cell_type": "code",
   "execution_count": 4,
   "metadata": {},
   "outputs": [],
   "source": [
    "from src.data import sql_utils"
   ]
  },
  {
   "cell_type": "code",
   "execution_count": 5,
   "metadata": {},
   "outputs": [],
   "source": [
    "DBNAME = \"opportunity_youth\""
   ]
  },
  {
   "cell_type": "code",
   "execution_count": 6,
   "metadata": {},
   "outputs": [],
   "source": [
    "conn = psycopg2.connect(dbname=DBNAME)"
   ]
  },
  {
   "cell_type": "code",
   "execution_count": 7,
   "metadata": {},
   "outputs": [
    {
     "data": {
      "text/html": [
       "<div>\n",
       "<style scoped>\n",
       "    .dataframe tbody tr th:only-of-type {\n",
       "        vertical-align: middle;\n",
       "    }\n",
       "\n",
       "    .dataframe tbody tr th {\n",
       "        vertical-align: top;\n",
       "    }\n",
       "\n",
       "    .dataframe thead th {\n",
       "        text-align: right;\n",
       "    }\n",
       "</style>\n",
       "<table border=\"1\" class=\"dataframe\">\n",
       "  <thead>\n",
       "    <tr style=\"text-align: right;\">\n",
       "      <th></th>\n",
       "      <th>oy_count</th>\n",
       "      <th>puma_name</th>\n",
       "    </tr>\n",
       "  </thead>\n",
       "  <tbody>\n",
       "    <tr>\n",
       "      <th>0</th>\n",
       "      <td>1853.0</td>\n",
       "      <td>King County (Central)--Renton City, Fairwood, ...</td>\n",
       "    </tr>\n",
       "    <tr>\n",
       "      <th>1</th>\n",
       "      <td>1977.0</td>\n",
       "      <td>King County (Far Southwest)--Federal Way, Des ...</td>\n",
       "    </tr>\n",
       "    <tr>\n",
       "      <th>2</th>\n",
       "      <td>1210.0</td>\n",
       "      <td>King County (Southeast)--Maple Valley, Covingt...</td>\n",
       "    </tr>\n",
       "    <tr>\n",
       "      <th>3</th>\n",
       "      <td>2006.0</td>\n",
       "      <td>King County (Southwest Central)--Kent City    ...</td>\n",
       "    </tr>\n",
       "    <tr>\n",
       "      <th>4</th>\n",
       "      <td>1530.0</td>\n",
       "      <td>King County (Southwest)--Auburn City &amp; Lakelan...</td>\n",
       "    </tr>\n",
       "    <tr>\n",
       "      <th>5</th>\n",
       "      <td>2038.0</td>\n",
       "      <td>King County (West Central)--Burien, SeaTac, Tu...</td>\n",
       "    </tr>\n",
       "  </tbody>\n",
       "</table>\n",
       "</div>"
      ],
      "text/plain": [
       "   oy_count                                          puma_name\n",
       "0    1853.0  King County (Central)--Renton City, Fairwood, ...\n",
       "1    1977.0  King County (Far Southwest)--Federal Way, Des ...\n",
       "2    1210.0  King County (Southeast)--Maple Valley, Covingt...\n",
       "3    2006.0  King County (Southwest Central)--Kent City    ...\n",
       "4    1530.0  King County (Southwest)--Auburn City & Lakelan...\n",
       "5    2038.0  King County (West Central)--Burien, SeaTac, Tu..."
      ]
     },
     "execution_count": 7,
     "metadata": {},
     "output_type": "execute_result"
    }
   ],
   "source": [
    "oy_by_puma = pd.read_sql(\"\"\"SELECT SUM(pwgtp) AS oy_count, n.puma_name\n",
    "               FROM pums_2017 p\n",
    "               JOIN puma_names_2010 n\n",
    "               ON p.puma = n.puma\n",
    "               WHERE p.puma BETWEEN '11610' AND '11615'\n",
    "               AND (p.esr = '3' OR p.esr = '6')\n",
    "               AND p.sch = '1'\n",
    "               AND p.agep BETWEEN '16' AND '24'\n",
    "               GROUP BY n.puma_name\n",
    "               ;\"\"\", conn)\n",
    "oy_by_puma"
   ]
  },
  {
   "cell_type": "code",
   "execution_count": 8,
   "metadata": {},
   "outputs": [
    {
     "data": {
      "text/plain": [
       "oy_count                                                 10614\n",
       "puma_name    King County (Central)--Renton City, Fairwood, ...\n",
       "dtype: object"
      ]
     },
     "execution_count": 8,
     "metadata": {},
     "output_type": "execute_result"
    }
   ],
   "source": [
    "total_oy = oy_by_puma.sum()\n",
    "total_oy"
   ]
  },
  {
   "cell_type": "markdown",
   "metadata": {},
   "source": [
    "#### From above we can see that over 75% of OY have over a 30 minute travel time to work 8,544 out of 11,115"
   ]
  },
  {
   "cell_type": "code",
   "execution_count": 83,
   "metadata": {},
   "outputs": [
    {
     "data": {
      "text/plain": [
       "1    587\n",
       "2    481\n",
       "Name: sex, dtype: int64"
      ]
     },
     "execution_count": 83,
     "metadata": {},
     "output_type": "execute_result"
    }
   ],
   "source": [
    "birth = pd.read_sql(\"\"\"SELECT pwgtp AS oy_count, jwtr, fer, sex, jwmnp, n.puma_name\n",
    "               FROM pums_2017 p\n",
    "               JOIN puma_names_2010 n\n",
    "               ON p.puma = n.puma\n",
    "               WHERE p.puma BETWEEN '11610' AND '11615'\n",
    "               AND (p.esr != '3' AND p.esr != '6')\n",
    "               AND p.sch = '1'\n",
    "               AND p.agep BETWEEN '16' AND '24'\n",
    "               ;\"\"\", conn)\n",
    "gave_birth = birth['fer'].value_counts()\n",
    "birth['sex'].value_counts()\n"
   ]
  },
  {
   "cell_type": "code",
   "execution_count": 98,
   "metadata": {},
   "outputs": [
    {
     "data": {
      "text/plain": [
       "461    1\n",
       "20     1\n",
       "Name: fer, dtype: int64"
      ]
     },
     "execution_count": 98,
     "metadata": {},
     "output_type": "execute_result"
    }
   ],
   "source": []
  },
  {
   "cell_type": "markdown",
   "metadata": {},
   "source": [
    "### How many OY have given birth within the past 12 months of the report?"
   ]
  },
  {
   "cell_type": "code",
   "execution_count": 121,
   "metadata": {},
   "outputs": [
    {
     "data": {
      "text/plain": [
       "1028.0"
      ]
     },
     "execution_count": 121,
     "metadata": {},
     "output_type": "execute_result"
    }
   ],
   "source": [
    "birth = pd.read_sql(\"\"\"SELECT SUM(pwgtp) AS oy_count, puma\n",
    "                          FROM pums_2017 \n",
    "                          WHERE puma BETWEEN '11610' AND '11615'\n",
    "                          AND (esr = '3' OR esr = '6')\n",
    "                          AND sch = '1'\n",
    "                          AND fer = '1'\n",
    "                          AND agep BETWEEN '16' AND '24'\n",
    "                          GROUP BY puma\n",
    "                          ;\"\"\", conn)\n",
    "birth['oy_count'].sum()"
   ]
  },
  {
   "cell_type": "code",
   "execution_count": 113,
   "metadata": {},
   "outputs": [
    {
     "data": {
      "text/plain": [
       "608.0"
      ]
     },
     "execution_count": 113,
     "metadata": {},
     "output_type": "execute_result"
    }
   ],
   "source": [
    "birth['oy_count'].sum()\n"
   ]
  },
  {
   "cell_type": "markdown",
   "metadata": {},
   "source": [
    "### Needed to specify females"
   ]
  },
  {
   "cell_type": "code",
   "execution_count": 125,
   "metadata": {},
   "outputs": [
    {
     "data": {
      "text/plain": [
       "1028.0"
      ]
     },
     "execution_count": 125,
     "metadata": {},
     "output_type": "execute_result"
    }
   ],
   "source": [
    "sex = pd.read_sql(\"\"\"SELECT SUM(pwgtp) AS oy_count, puma\n",
    "                          FROM pums_2017 \n",
    "                          WHERE puma BETWEEN '11610' AND '11615'\n",
    "                          AND (esr = '3' OR esr = '6')\n",
    "                          AND sch = '1'\n",
    "                          AND sex = '2'\n",
    "                          AND fer = '1'\n",
    "                          AND agep BETWEEN '16' AND '24'\n",
    "                          GROUP BY puma\n",
    "                          ;\"\"\", conn)\n",
    "sex['oy_count'].sum()"
   ]
  },
  {
   "cell_type": "code",
   "execution_count": 128,
   "metadata": {},
   "outputs": [
    {
     "data": {
      "text/plain": [
       "5665.0"
      ]
     },
     "execution_count": 128,
     "metadata": {},
     "output_type": "execute_result"
    }
   ],
   "source": [
    "sex2 = pd.read_sql(\"\"\"SELECT SUM(pwgtp) AS oy_count, puma\n",
    "                          FROM pums_2017 \n",
    "                          WHERE puma BETWEEN '11610' AND '11615'\n",
    "                          AND (esr = '3' OR esr = '6')\n",
    "                          AND sch = '1'\n",
    "                          AND sex = '2'\n",
    "                          AND agep BETWEEN '16' AND '24'\n",
    "                          GROUP BY puma\n",
    "                          ;\"\"\", conn)\n",
    "sex2['oy_count'].sum()"
   ]
  },
  {
   "cell_type": "markdown",
   "metadata": {},
   "source": [
    "### 11,927 people in the same age group as OY have over a 30 min commute to work, could play a factor in number of OY."
   ]
  },
  {
   "cell_type": "code",
   "execution_count": 150,
   "metadata": {},
   "outputs": [
    {
     "data": {
      "text/plain": [
       "11927.0"
      ]
     },
     "execution_count": 150,
     "metadata": {},
     "output_type": "execute_result"
    }
   ],
   "source": [
    "trav = pd.read_sql(\"\"\"SELECT SUM(pwgtp) AS oy_count, puma\n",
    "                          FROM pums_2017 \n",
    "                          WHERE puma BETWEEN '11610' AND '11615'\n",
    "                          AND (esr != '3' AND esr != '6')\n",
    "                          \n",
    "                          AND jwmnp > '030'\n",
    "                          AND agep BETWEEN '16' AND '24'\n",
    "                          GROUP BY puma\n",
    "                          ;\"\"\", conn)\n",
    "trav['oy_count'].sum()"
   ]
  },
  {
   "cell_type": "code",
   "execution_count": 146,
   "metadata": {},
   "outputs": [
    {
     "data": {
      "text/plain": [
       "44770.0"
      ]
     },
     "execution_count": 146,
     "metadata": {},
     "output_type": "execute_result"
    }
   ],
   "source": [
    "trav_pop = pd.read_sql(\"\"\"SELECT SUM(pwgtp) AS oy_count, puma\n",
    "                          FROM pums_2017 \n",
    "                          WHERE puma BETWEEN '11610' AND '11615'\n",
    "                          AND (esr != '3' AND esr != '6')\n",
    "                        \n",
    "                          AND agep BETWEEN '16' AND '24'\n",
    "                          GROUP BY puma\n",
    "                          ;\"\"\", conn)\n",
    "trav_pop['oy_count'].sum()"
   ]
  },
  {
   "cell_type": "code",
   "execution_count": 152,
   "metadata": {},
   "outputs": [
    {
     "data": {
      "text/plain": [
       "23623.0"
      ]
     },
     "execution_count": 152,
     "metadata": {},
     "output_type": "execute_result"
    }
   ],
   "source": [
    "trav_pop_less30 = pd.read_sql(\"\"\"SELECT SUM(pwgtp) AS oy_count, puma\n",
    "                          FROM pums_2017 \n",
    "                          WHERE puma BETWEEN '11610' AND '11615'\n",
    "                          AND (esr != '3' AND esr != '6')\n",
    "                          AND jwmnp < '30'\n",
    "                          AND agep BETWEEN '16' AND '24'\n",
    "                          GROUP BY puma\n",
    "                          ;\"\"\", conn)\n",
    "trav_pop_less30['oy_count'].sum()"
   ]
  },
  {
   "cell_type": "markdown",
   "metadata": {},
   "source": [
    "### how many OY have children? May need to stay with child and not be able to work"
   ]
  },
  {
   "cell_type": "code",
   "execution_count": 165,
   "metadata": {},
   "outputs": [
    {
     "data": {
      "text/html": [
       "<div>\n",
       "<style scoped>\n",
       "    .dataframe tbody tr th:only-of-type {\n",
       "        vertical-align: middle;\n",
       "    }\n",
       "\n",
       "    .dataframe tbody tr th {\n",
       "        vertical-align: top;\n",
       "    }\n",
       "\n",
       "    .dataframe thead th {\n",
       "        text-align: right;\n",
       "    }\n",
       "</style>\n",
       "<table border=\"1\" class=\"dataframe\">\n",
       "  <thead>\n",
       "    <tr style=\"text-align: right;\">\n",
       "      <th></th>\n",
       "      <th>oy_count</th>\n",
       "      <th>puma</th>\n",
       "    </tr>\n",
       "  </thead>\n",
       "  <tbody>\n",
       "    <tr>\n",
       "      <th>0</th>\n",
       "      <td>1853.0</td>\n",
       "      <td>11610</td>\n",
       "    </tr>\n",
       "    <tr>\n",
       "      <th>1</th>\n",
       "      <td>2038.0</td>\n",
       "      <td>11611</td>\n",
       "    </tr>\n",
       "    <tr>\n",
       "      <th>2</th>\n",
       "      <td>1977.0</td>\n",
       "      <td>11612</td>\n",
       "    </tr>\n",
       "    <tr>\n",
       "      <th>3</th>\n",
       "      <td>2006.0</td>\n",
       "      <td>11613</td>\n",
       "    </tr>\n",
       "    <tr>\n",
       "      <th>4</th>\n",
       "      <td>1530.0</td>\n",
       "      <td>11614</td>\n",
       "    </tr>\n",
       "    <tr>\n",
       "      <th>5</th>\n",
       "      <td>1210.0</td>\n",
       "      <td>11615</td>\n",
       "    </tr>\n",
       "  </tbody>\n",
       "</table>\n",
       "</div>"
      ],
      "text/plain": [
       "   oy_count   puma\n",
       "0    1853.0  11610\n",
       "1    2038.0  11611\n",
       "2    1977.0  11612\n",
       "3    2006.0  11613\n",
       "4    1530.0  11614\n",
       "5    1210.0  11615"
      ]
     },
     "execution_count": 165,
     "metadata": {},
     "output_type": "execute_result"
    }
   ],
   "source": [
    " = pd.read_sql(\"\"\"SELECT SUM(pwgtp) AS oy_count, puma\n",
    "                          FROM pums_2017 \n",
    "                          WHERE puma BETWEEN '11610' AND '11615'\n",
    "                          AND (esr = '3' OR esr = '6')\n",
    "                          AND sch = '1'\n",
    "                          AND agep BETWEEN '16' AND '24'\n",
    "                          GROUP BY puma\n",
    "                          ;\"\"\", conn)\n"
   ]
  },
  {
   "cell_type": "markdown",
   "metadata": {},
   "source": [
    "### Cognitive difficulty"
   ]
  },
  {
   "cell_type": "code",
   "execution_count": 176,
   "metadata": {},
   "outputs": [
    {
     "data": {
      "text/plain": [
       "561.0"
      ]
     },
     "execution_count": 176,
     "metadata": {},
     "output_type": "execute_result"
    }
   ],
   "source": [
    "cog = pd.read_sql(\"\"\"SELECT SUM(pwgtp) AS oy_count, puma\n",
    "                          FROM pums_2017 \n",
    "                          WHERE puma BETWEEN '11610' AND '11615'\n",
    "                          AND (esr != '3' AND esr != '6')\n",
    "                          AND sch = '1'\n",
    "                          AND agep BETWEEN '16' AND '24'\n",
    "                          AND drem = '1'\n",
    "                          GROUP BY puma\n",
    "                          ;\"\"\", conn)\n",
    "cognitive_diff = cog['oy_count'].sum()\n",
    "cognitive_diff"
   ]
  },
  {
   "cell_type": "markdown",
   "metadata": {},
   "source": [
    "#### Vision difficulty"
   ]
  },
  {
   "cell_type": "code",
   "execution_count": 177,
   "metadata": {},
   "outputs": [
    {
     "data": {
      "text/plain": [
       "434.0"
      ]
     },
     "execution_count": 177,
     "metadata": {},
     "output_type": "execute_result"
    }
   ],
   "source": [
    "vis = pd.read_sql(\"\"\"SELECT SUM(pwgtp) AS oy_count, puma\n",
    "                          FROM pums_2017 \n",
    "                          WHERE puma BETWEEN '11610' AND '11615'\n",
    "                          AND (esr != '3' AND esr != '6')\n",
    "                          AND sch = '1'\n",
    "                          AND agep BETWEEN '16' AND '24'\n",
    "                          AND deye = '1'\n",
    "                          GROUP BY puma\n",
    "                          ;\"\"\", conn)\n",
    "vis_difficulty = vis['oy_count'].sum()\n",
    "vis_difficulty\n"
   ]
  },
  {
   "cell_type": "markdown",
   "metadata": {},
   "source": [
    "### hearing difficulty"
   ]
  },
  {
   "cell_type": "code",
   "execution_count": 178,
   "metadata": {},
   "outputs": [
    {
     "data": {
      "text/plain": [
       "339.0"
      ]
     },
     "execution_count": 178,
     "metadata": {},
     "output_type": "execute_result"
    }
   ],
   "source": [
    "hear = pd.read_sql(\"\"\"SELECT SUM(pwgtp) AS oy_count, puma\n",
    "                          FROM pums_2017 \n",
    "                          WHERE puma BETWEEN '11610' AND '11615'\n",
    "                          AND (esr != '3' AND esr != '6')\n",
    "                          AND sch = '1'\n",
    "                          AND agep BETWEEN '16' AND '24'\n",
    "                          AND dear = '1'\n",
    "                          GROUP BY puma\n",
    "                          ;\"\"\", conn)\n",
    "hear_difficultuy = hear['oy_count'].sum()\n",
    "hear_difficultuy"
   ]
  },
  {
   "cell_type": "code",
   "execution_count": null,
   "metadata": {},
   "outputs": [],
   "source": []
  }
 ],
 "metadata": {
  "kernelspec": {
   "display_name": "Python 3 (oy-env)",
   "language": "python",
   "name": "oy-env"
  },
  "language_info": {
   "codemirror_mode": {
    "name": "ipython",
    "version": 3
   },
   "file_extension": ".py",
   "mimetype": "text/x-python",
   "name": "python",
   "nbconvert_exporter": "python",
   "pygments_lexer": "ipython3",
   "version": "3.8.1"
  }
 },
 "nbformat": 4,
 "nbformat_minor": 4
}
