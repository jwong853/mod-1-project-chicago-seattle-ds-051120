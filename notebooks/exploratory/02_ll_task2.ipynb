{
 "cells": [
  {
   "cell_type": "code",
   "execution_count": 2,
   "metadata": {},
   "outputs": [],
   "source": [
    "import os\n",
    "import sys\n",
    "module_path = os.path.abspath(os.path.join(os.pardir, os.pardir))\n",
    "if module_path not in sys.path:\n",
    "    sys.path.append(module_path)"
   ]
  },
  {
   "cell_type": "code",
   "execution_count": 3,
   "metadata": {},
   "outputs": [],
   "source": [
    "import psycopg2\n",
    "import pandas as pd"
   ]
  },
  {
   "cell_type": "code",
   "execution_count": 4,
   "metadata": {},
   "outputs": [],
   "source": [
    "DBNAME = \"opportunity_youth\""
   ]
  },
  {
   "cell_type": "code",
   "execution_count": 5,
   "metadata": {},
   "outputs": [],
   "source": [
    "conn = psycopg2.connect(dbname=DBNAME)"
   ]
  },
  {
   "cell_type": "code",
   "execution_count": 6,
   "metadata": {},
   "outputs": [
    {
     "data": {
      "text/html": [
       "<div>\n",
       "<style scoped>\n",
       "    .dataframe tbody tr th:only-of-type {\n",
       "        vertical-align: middle;\n",
       "    }\n",
       "\n",
       "    .dataframe tbody tr th {\n",
       "        vertical-align: top;\n",
       "    }\n",
       "\n",
       "    .dataframe thead th {\n",
       "        text-align: right;\n",
       "    }\n",
       "</style>\n",
       "<table border=\"1\" class=\"dataframe\">\n",
       "  <thead>\n",
       "    <tr style=\"text-align: right;\">\n",
       "      <th></th>\n",
       "      <th>oy_count</th>\n",
       "      <th>puma_name</th>\n",
       "    </tr>\n",
       "  </thead>\n",
       "  <tbody>\n",
       "    <tr>\n",
       "      <th>0</th>\n",
       "      <td>435.0</td>\n",
       "      <td>King County (Central)--Renton City, Fairwood, ...</td>\n",
       "    </tr>\n",
       "    <tr>\n",
       "      <th>1</th>\n",
       "      <td>762.0</td>\n",
       "      <td>King County (Far Southwest)--Federal Way, Des ...</td>\n",
       "    </tr>\n",
       "    <tr>\n",
       "      <th>2</th>\n",
       "      <td>414.0</td>\n",
       "      <td>King County (Southeast)--Maple Valley, Covingt...</td>\n",
       "    </tr>\n",
       "    <tr>\n",
       "      <th>3</th>\n",
       "      <td>505.0</td>\n",
       "      <td>King County (Southwest Central)--Kent City    ...</td>\n",
       "    </tr>\n",
       "    <tr>\n",
       "      <th>4</th>\n",
       "      <td>569.0</td>\n",
       "      <td>King County (Southwest)--Auburn City &amp; Lakelan...</td>\n",
       "    </tr>\n",
       "    <tr>\n",
       "      <th>5</th>\n",
       "      <td>538.0</td>\n",
       "      <td>King County (West Central)--Burien, SeaTac, Tu...</td>\n",
       "    </tr>\n",
       "  </tbody>\n",
       "</table>\n",
       "</div>"
      ],
      "text/plain": [
       "   oy_count                                          puma_name\n",
       "0     435.0  King County (Central)--Renton City, Fairwood, ...\n",
       "1     762.0  King County (Far Southwest)--Federal Way, Des ...\n",
       "2     414.0  King County (Southeast)--Maple Valley, Covingt...\n",
       "3     505.0  King County (Southwest Central)--Kent City    ...\n",
       "4     569.0  King County (Southwest)--Auburn City & Lakelan...\n",
       "5     538.0  King County (West Central)--Burien, SeaTac, Tu..."
      ]
     },
     "execution_count": 6,
     "metadata": {},
     "output_type": "execute_result"
    }
   ],
   "source": [
    "oy_by_puma = pd.read_sql(\"\"\"SELECT SUM(pwgtp) AS oy_count, n.puma_name\n",
    "               FROM pums_2017 p\n",
    "               JOIN puma_names_2010 n\n",
    "               ON p.puma = n.puma\n",
    "               WHERE p.puma BETWEEN '11610' AND '11615'\n",
    "               AND p.esr = '3'\n",
    "               AND p.sch = '1'\n",
    "               AND p.agep BETWEEN '16' AND '24'\n",
    "               GROUP BY n.puma_name\n",
    "               \n",
    "               ;\"\"\", conn)\n",
    "oy_by_puma"
   ]
  },
  {
   "cell_type": "code",
   "execution_count": 7,
   "metadata": {},
   "outputs": [
    {
     "data": {
      "text/plain": [
       "3223.0"
      ]
     },
     "execution_count": 7,
     "metadata": {},
     "output_type": "execute_result"
    }
   ],
   "source": [
    "oy_by_puma['oy_count'].sum()"
   ]
  },
  {
   "cell_type": "markdown",
   "metadata": {},
   "source": [
    "hoping to add a few more unemployed youths to our data set by examining wkl=2 or 3, wkw=5 or 6, esr=6"
   ]
  },
  {
   "cell_type": "code",
   "execution_count": 8,
   "metadata": {},
   "outputs": [
    {
     "data": {
      "text/html": [
       "<div>\n",
       "<style scoped>\n",
       "    .dataframe tbody tr th:only-of-type {\n",
       "        vertical-align: middle;\n",
       "    }\n",
       "\n",
       "    .dataframe tbody tr th {\n",
       "        vertical-align: top;\n",
       "    }\n",
       "\n",
       "    .dataframe thead th {\n",
       "        text-align: right;\n",
       "    }\n",
       "</style>\n",
       "<table border=\"1\" class=\"dataframe\">\n",
       "  <thead>\n",
       "    <tr style=\"text-align: right;\">\n",
       "      <th></th>\n",
       "      <th>oy_count</th>\n",
       "    </tr>\n",
       "  </thead>\n",
       "  <tbody>\n",
       "    <tr>\n",
       "      <th>0</th>\n",
       "      <td>7391.0</td>\n",
       "    </tr>\n",
       "  </tbody>\n",
       "</table>\n",
       "</div>"
      ],
      "text/plain": [
       "   oy_count\n",
       "0    7391.0"
      ]
     },
     "execution_count": 8,
     "metadata": {},
     "output_type": "execute_result"
    }
   ],
   "source": [
    "pd.read_sql(\"\"\"SELECT SUM(pwgtp) AS oy_count\n",
    "               FROM pums_2017 p\n",
    "               WHERE p.puma BETWEEN '11610' AND '11615'\n",
    "               AND p.esr = '6'\n",
    "               AND p.sch = '1'\n",
    "               AND p.agep BETWEEN '16' AND '24'\n",
    "               \n",
    "               ;\"\"\", conn)"
   ]
  },
  {
   "cell_type": "code",
   "execution_count": null,
   "metadata": {},
   "outputs": [],
   "source": []
  },
  {
   "cell_type": "code",
   "execution_count": 9,
   "metadata": {},
   "outputs": [
    {
     "data": {
      "text/html": [
       "<div>\n",
       "<style scoped>\n",
       "    .dataframe tbody tr th:only-of-type {\n",
       "        vertical-align: middle;\n",
       "    }\n",
       "\n",
       "    .dataframe tbody tr th {\n",
       "        vertical-align: top;\n",
       "    }\n",
       "\n",
       "    .dataframe thead th {\n",
       "        text-align: right;\n",
       "    }\n",
       "</style>\n",
       "<table border=\"1\" class=\"dataframe\">\n",
       "  <thead>\n",
       "    <tr style=\"text-align: right;\">\n",
       "      <th></th>\n",
       "      <th>oy_count</th>\n",
       "      <th>puma_name</th>\n",
       "      <th>puma</th>\n",
       "    </tr>\n",
       "  </thead>\n",
       "  <tbody>\n",
       "    <tr>\n",
       "      <th>0</th>\n",
       "      <td>1333.0</td>\n",
       "      <td>King County (Central)--Renton City, Fairwood, ...</td>\n",
       "      <td>11610</td>\n",
       "    </tr>\n",
       "    <tr>\n",
       "      <th>1</th>\n",
       "      <td>1803.0</td>\n",
       "      <td>King County (Far Southwest)--Federal Way, Des ...</td>\n",
       "      <td>11612</td>\n",
       "    </tr>\n",
       "    <tr>\n",
       "      <th>2</th>\n",
       "      <td>1009.0</td>\n",
       "      <td>King County (Southeast)--Maple Valley, Covingt...</td>\n",
       "      <td>11615</td>\n",
       "    </tr>\n",
       "    <tr>\n",
       "      <th>3</th>\n",
       "      <td>1524.0</td>\n",
       "      <td>King County (Southwest Central)--Kent City    ...</td>\n",
       "      <td>11613</td>\n",
       "    </tr>\n",
       "    <tr>\n",
       "      <th>4</th>\n",
       "      <td>1226.0</td>\n",
       "      <td>King County (Southwest)--Auburn City &amp; Lakelan...</td>\n",
       "      <td>11614</td>\n",
       "    </tr>\n",
       "    <tr>\n",
       "      <th>5</th>\n",
       "      <td>1753.0</td>\n",
       "      <td>King County (West Central)--Burien, SeaTac, Tu...</td>\n",
       "      <td>11611</td>\n",
       "    </tr>\n",
       "  </tbody>\n",
       "</table>\n",
       "</div>"
      ],
      "text/plain": [
       "   oy_count                                          puma_name   puma\n",
       "0    1333.0  King County (Central)--Renton City, Fairwood, ...  11610\n",
       "1    1803.0  King County (Far Southwest)--Federal Way, Des ...  11612\n",
       "2    1009.0  King County (Southeast)--Maple Valley, Covingt...  11615\n",
       "3    1524.0  King County (Southwest Central)--Kent City    ...  11613\n",
       "4    1226.0  King County (Southwest)--Auburn City & Lakelan...  11614\n",
       "5    1753.0  King County (West Central)--Burien, SeaTac, Tu...  11611"
      ]
     },
     "execution_count": 9,
     "metadata": {},
     "output_type": "execute_result"
    }
   ],
   "source": [
    "oy_count_with_esr3_cow_wkl = pd.read_sql(\"\"\"SELECT SUM(pwgtp) AS oy_count, n.puma_name, p.puma\n",
    "                                            FROM pums_2017 p\n",
    "                                            JOIN puma_names_2010 n\n",
    "                                            ON p.puma = n.puma\n",
    "                                            WHERE p.puma BETWEEN '11610' AND '11615'\n",
    "                                            AND (p.esr = '3' OR p.wkl = '2' OR p.wkl = '3' OR p.cow = '8')\n",
    "                                            AND p.sch = '1'\n",
    "                                            AND p.agep BETWEEN '16' AND '24'\n",
    "                                            GROUP BY n.puma_name, p.puma\n",
    "                                            ;\"\"\", conn)\n",
    "oy_count_with_esr3_cow_wkl"
   ]
  },
  {
   "cell_type": "code",
   "execution_count": 10,
   "metadata": {},
   "outputs": [
    {
     "data": {
      "text/plain": [
       "8648.0"
      ]
     },
     "execution_count": 10,
     "metadata": {},
     "output_type": "execute_result"
    }
   ],
   "source": [
    "oy_count_with_esr3_cow_wkl['oy_count'].sum()"
   ]
  },
  {
   "cell_type": "code",
   "execution_count": 11,
   "metadata": {},
   "outputs": [
    {
     "data": {
      "text/html": [
       "<div>\n",
       "<style scoped>\n",
       "    .dataframe tbody tr th:only-of-type {\n",
       "        vertical-align: middle;\n",
       "    }\n",
       "\n",
       "    .dataframe tbody tr th {\n",
       "        vertical-align: top;\n",
       "    }\n",
       "\n",
       "    .dataframe thead th {\n",
       "        text-align: right;\n",
       "    }\n",
       "</style>\n",
       "<table border=\"1\" class=\"dataframe\">\n",
       "  <thead>\n",
       "    <tr style=\"text-align: right;\">\n",
       "      <th></th>\n",
       "      <th>oy_count</th>\n",
       "      <th>puma_name</th>\n",
       "      <th>puma</th>\n",
       "    </tr>\n",
       "  </thead>\n",
       "  <tbody>\n",
       "    <tr>\n",
       "      <th>0</th>\n",
       "      <td>2038.0</td>\n",
       "      <td>King County (West Central)--Burien, SeaTac, Tu...</td>\n",
       "      <td>11611</td>\n",
       "    </tr>\n",
       "    <tr>\n",
       "      <th>1</th>\n",
       "      <td>2006.0</td>\n",
       "      <td>King County (Southwest Central)--Kent City    ...</td>\n",
       "      <td>11613</td>\n",
       "    </tr>\n",
       "    <tr>\n",
       "      <th>2</th>\n",
       "      <td>1977.0</td>\n",
       "      <td>King County (Far Southwest)--Federal Way, Des ...</td>\n",
       "      <td>11612</td>\n",
       "    </tr>\n",
       "    <tr>\n",
       "      <th>3</th>\n",
       "      <td>1853.0</td>\n",
       "      <td>King County (Central)--Renton City, Fairwood, ...</td>\n",
       "      <td>11610</td>\n",
       "    </tr>\n",
       "    <tr>\n",
       "      <th>4</th>\n",
       "      <td>1530.0</td>\n",
       "      <td>King County (Southwest)--Auburn City &amp; Lakelan...</td>\n",
       "      <td>11614</td>\n",
       "    </tr>\n",
       "    <tr>\n",
       "      <th>5</th>\n",
       "      <td>1210.0</td>\n",
       "      <td>King County (Southeast)--Maple Valley, Covingt...</td>\n",
       "      <td>11615</td>\n",
       "    </tr>\n",
       "  </tbody>\n",
       "</table>\n",
       "</div>"
      ],
      "text/plain": [
       "   oy_count                                          puma_name   puma\n",
       "0    2038.0  King County (West Central)--Burien, SeaTac, Tu...  11611\n",
       "1    2006.0  King County (Southwest Central)--Kent City    ...  11613\n",
       "2    1977.0  King County (Far Southwest)--Federal Way, Des ...  11612\n",
       "3    1853.0  King County (Central)--Renton City, Fairwood, ...  11610\n",
       "4    1530.0  King County (Southwest)--Auburn City & Lakelan...  11614\n",
       "5    1210.0  King County (Southeast)--Maple Valley, Covingt...  11615"
      ]
     },
     "execution_count": 11,
     "metadata": {},
     "output_type": "execute_result"
    }
   ],
   "source": [
    "oy_count_with_esr_wkl_south = pd.read_sql(\"\"\"SELECT SUM(pwgtp) AS oy_count, n.puma_name, p.puma\n",
    "                                           FROM pums_2017 p\n",
    "                                           JOIN puma_names_2010 n\n",
    "                                           ON p.puma = n.puma\n",
    "                                           WHERE p.puma BETWEEN '11610' AND '11615'\n",
    "                                           AND (p.esr = '3' OR p.esr = '6'\n",
    "                                                OR p.wkl = '2' OR p.wkl = '3')\n",
    "                                           AND p.sch = '1'\n",
    "                                           AND p.agep BETWEEN '16' AND '24'\n",
    "                                           GROUP BY n.puma_name, p.puma\n",
    "                                           ORDER BY oy_count DESC\n",
    "                                           ;\"\"\", conn)\n",
    "oy_count_with_esr_wkl_south"
   ]
  },
  {
   "cell_type": "code",
   "execution_count": 12,
   "metadata": {},
   "outputs": [
    {
     "data": {
      "text/plain": [
       "10614.0"
      ]
     },
     "execution_count": 12,
     "metadata": {},
     "output_type": "execute_result"
    }
   ],
   "source": [
    "oy_count_with_esr_wkl_south['oy_count'].sum()"
   ]
  },
  {
   "cell_type": "markdown",
   "metadata": {},
   "source": [
    "getting curious about the oy count for entire king county"
   ]
  },
  {
   "cell_type": "markdown",
   "metadata": {},
   "source": [
    "puma codes relevant 11601 through 11616"
   ]
  },
  {
   "cell_type": "code",
   "execution_count": 13,
   "metadata": {},
   "outputs": [
    {
     "data": {
      "text/html": [
       "<div>\n",
       "<style scoped>\n",
       "    .dataframe tbody tr th:only-of-type {\n",
       "        vertical-align: middle;\n",
       "    }\n",
       "\n",
       "    .dataframe tbody tr th {\n",
       "        vertical-align: top;\n",
       "    }\n",
       "\n",
       "    .dataframe thead th {\n",
       "        text-align: right;\n",
       "    }\n",
       "</style>\n",
       "<table border=\"1\" class=\"dataframe\">\n",
       "  <thead>\n",
       "    <tr style=\"text-align: right;\">\n",
       "      <th></th>\n",
       "      <th>oy_count</th>\n",
       "      <th>puma_name</th>\n",
       "      <th>puma</th>\n",
       "    </tr>\n",
       "  </thead>\n",
       "  <tbody>\n",
       "    <tr>\n",
       "      <th>0</th>\n",
       "      <td>2038.0</td>\n",
       "      <td>King County (West Central)--Burien, SeaTac, Tu...</td>\n",
       "      <td>11611</td>\n",
       "    </tr>\n",
       "    <tr>\n",
       "      <th>1</th>\n",
       "      <td>2006.0</td>\n",
       "      <td>King County (Southwest Central)--Kent City    ...</td>\n",
       "      <td>11613</td>\n",
       "    </tr>\n",
       "    <tr>\n",
       "      <th>2</th>\n",
       "      <td>1977.0</td>\n",
       "      <td>King County (Far Southwest)--Federal Way, Des ...</td>\n",
       "      <td>11612</td>\n",
       "    </tr>\n",
       "    <tr>\n",
       "      <th>3</th>\n",
       "      <td>1853.0</td>\n",
       "      <td>King County (Central)--Renton City, Fairwood, ...</td>\n",
       "      <td>11610</td>\n",
       "    </tr>\n",
       "    <tr>\n",
       "      <th>4</th>\n",
       "      <td>1530.0</td>\n",
       "      <td>King County (Southwest)--Auburn City &amp; Lakelan...</td>\n",
       "      <td>11614</td>\n",
       "    </tr>\n",
       "    <tr>\n",
       "      <th>5</th>\n",
       "      <td>1325.0</td>\n",
       "      <td>Seattle City (Northeast)                      ...</td>\n",
       "      <td>11602</td>\n",
       "    </tr>\n",
       "    <tr>\n",
       "      <th>6</th>\n",
       "      <td>1210.0</td>\n",
       "      <td>King County (Southeast)--Maple Valley, Covingt...</td>\n",
       "      <td>11615</td>\n",
       "    </tr>\n",
       "    <tr>\n",
       "      <th>7</th>\n",
       "      <td>1086.0</td>\n",
       "      <td>King County (Northwest Central)--Greater Belle...</td>\n",
       "      <td>11608</td>\n",
       "    </tr>\n",
       "    <tr>\n",
       "      <th>8</th>\n",
       "      <td>1032.0</td>\n",
       "      <td>Seattle City (Downtown)--Queen Anne &amp; Magnolia...</td>\n",
       "      <td>11603</td>\n",
       "    </tr>\n",
       "    <tr>\n",
       "      <th>9</th>\n",
       "      <td>953.0</td>\n",
       "      <td>King County (Northeast)--Snoqualmie City, Cott...</td>\n",
       "      <td>11616</td>\n",
       "    </tr>\n",
       "    <tr>\n",
       "      <th>10</th>\n",
       "      <td>926.0</td>\n",
       "      <td>King County (Northwest)--Redmond, Kirkland Cit...</td>\n",
       "      <td>11607</td>\n",
       "    </tr>\n",
       "    <tr>\n",
       "      <th>11</th>\n",
       "      <td>916.0</td>\n",
       "      <td>Seattle City (Southeast)--Capitol Hill        ...</td>\n",
       "      <td>11604</td>\n",
       "    </tr>\n",
       "    <tr>\n",
       "      <th>12</th>\n",
       "      <td>908.0</td>\n",
       "      <td>Seattle City (West)--Duwamish &amp; Beacon Hill   ...</td>\n",
       "      <td>11605</td>\n",
       "    </tr>\n",
       "    <tr>\n",
       "      <th>13</th>\n",
       "      <td>812.0</td>\n",
       "      <td>King County (Northwest)--Shoreline, Kenmore &amp; ...</td>\n",
       "      <td>11606</td>\n",
       "    </tr>\n",
       "    <tr>\n",
       "      <th>14</th>\n",
       "      <td>755.0</td>\n",
       "      <td>King County (Central)--Sammamish, Issaquah, Me...</td>\n",
       "      <td>11609</td>\n",
       "    </tr>\n",
       "    <tr>\n",
       "      <th>15</th>\n",
       "      <td>657.0</td>\n",
       "      <td>Seattle City (Northwest)                      ...</td>\n",
       "      <td>11601</td>\n",
       "    </tr>\n",
       "  </tbody>\n",
       "</table>\n",
       "</div>"
      ],
      "text/plain": [
       "    oy_count                                          puma_name   puma\n",
       "0     2038.0  King County (West Central)--Burien, SeaTac, Tu...  11611\n",
       "1     2006.0  King County (Southwest Central)--Kent City    ...  11613\n",
       "2     1977.0  King County (Far Southwest)--Federal Way, Des ...  11612\n",
       "3     1853.0  King County (Central)--Renton City, Fairwood, ...  11610\n",
       "4     1530.0  King County (Southwest)--Auburn City & Lakelan...  11614\n",
       "5     1325.0  Seattle City (Northeast)                      ...  11602\n",
       "6     1210.0  King County (Southeast)--Maple Valley, Covingt...  11615\n",
       "7     1086.0  King County (Northwest Central)--Greater Belle...  11608\n",
       "8     1032.0  Seattle City (Downtown)--Queen Anne & Magnolia...  11603\n",
       "9      953.0  King County (Northeast)--Snoqualmie City, Cott...  11616\n",
       "10     926.0  King County (Northwest)--Redmond, Kirkland Cit...  11607\n",
       "11     916.0  Seattle City (Southeast)--Capitol Hill        ...  11604\n",
       "12     908.0  Seattle City (West)--Duwamish & Beacon Hill   ...  11605\n",
       "13     812.0  King County (Northwest)--Shoreline, Kenmore & ...  11606\n",
       "14     755.0  King County (Central)--Sammamish, Issaquah, Me...  11609\n",
       "15     657.0  Seattle City (Northwest)                      ...  11601"
      ]
     },
     "execution_count": 13,
     "metadata": {},
     "output_type": "execute_result"
    }
   ],
   "source": [
    "oy_count_with_esr_wkl_king = pd.read_sql(\"\"\"SELECT SUM(pwgtp) AS oy_count, n.puma_name, p.puma\n",
    "                                           FROM pums_2017 p\n",
    "                                           JOIN puma_names_2010 n\n",
    "                                           ON p.puma = n.puma\n",
    "                                           WHERE p.puma BETWEEN '11601' AND '11616'\n",
    "                                           AND (p.esr = '3' OR p.esr = '6'\n",
    "                                                OR p.wkl = '2' OR p.wkl = '3')\n",
    "                                           AND p.sch = '1'\n",
    "                                           AND p.agep BETWEEN '16' AND '24'\n",
    "                                           GROUP BY n.puma_name, p.puma\n",
    "                                           ORDER BY oy_count DESC\n",
    "                                           ;\"\"\", conn)\n",
    "oy_count_with_esr_wkl_king"
   ]
  },
  {
   "cell_type": "code",
   "execution_count": 14,
   "metadata": {},
   "outputs": [
    {
     "data": {
      "text/plain": [
       "19984.0"
      ]
     },
     "execution_count": 14,
     "metadata": {},
     "output_type": "execute_result"
    }
   ],
   "source": [
    "oy_count_with_esr_wkl_king['oy_count'].sum()"
   ]
  },
  {
   "cell_type": "code",
   "execution_count": null,
   "metadata": {},
   "outputs": [],
   "source": []
  },
  {
   "cell_type": "code",
   "execution_count": null,
   "metadata": {},
   "outputs": [],
   "source": []
  },
  {
   "cell_type": "code",
   "execution_count": null,
   "metadata": {},
   "outputs": [],
   "source": []
  },
  {
   "cell_type": "markdown",
   "metadata": {},
   "source": [
    "Let's try visualizations now!\n",
    "first plot"
   ]
  },
  {
   "cell_type": "code",
   "execution_count": 15,
   "metadata": {},
   "outputs": [],
   "source": [
    "import matplotlib.pyplot as plt\n",
    "%matplotlib inline"
   ]
  },
  {
   "cell_type": "code",
   "execution_count": 16,
   "metadata": {},
   "outputs": [
    {
     "data": {
      "text/html": [
       "<div>\n",
       "<style scoped>\n",
       "    .dataframe tbody tr th:only-of-type {\n",
       "        vertical-align: middle;\n",
       "    }\n",
       "\n",
       "    .dataframe tbody tr th {\n",
       "        vertical-align: top;\n",
       "    }\n",
       "\n",
       "    .dataframe thead th {\n",
       "        text-align: right;\n",
       "    }\n",
       "</style>\n",
       "<table border=\"1\" class=\"dataframe\">\n",
       "  <thead>\n",
       "    <tr style=\"text-align: right;\">\n",
       "      <th></th>\n",
       "      <th>oy_count</th>\n",
       "      <th>puma_name</th>\n",
       "      <th>puma</th>\n",
       "    </tr>\n",
       "  </thead>\n",
       "  <tbody>\n",
       "    <tr>\n",
       "      <th>0</th>\n",
       "      <td>2038.0</td>\n",
       "      <td>King County (West Central)--Burien, SeaTac, Tu...</td>\n",
       "      <td>11611</td>\n",
       "    </tr>\n",
       "    <tr>\n",
       "      <th>1</th>\n",
       "      <td>2006.0</td>\n",
       "      <td>King County (Southwest Central)--Kent City    ...</td>\n",
       "      <td>11613</td>\n",
       "    </tr>\n",
       "    <tr>\n",
       "      <th>2</th>\n",
       "      <td>1977.0</td>\n",
       "      <td>King County (Far Southwest)--Federal Way, Des ...</td>\n",
       "      <td>11612</td>\n",
       "    </tr>\n",
       "    <tr>\n",
       "      <th>3</th>\n",
       "      <td>1853.0</td>\n",
       "      <td>King County (Central)--Renton City, Fairwood, ...</td>\n",
       "      <td>11610</td>\n",
       "    </tr>\n",
       "    <tr>\n",
       "      <th>4</th>\n",
       "      <td>1530.0</td>\n",
       "      <td>King County (Southwest)--Auburn City &amp; Lakelan...</td>\n",
       "      <td>11614</td>\n",
       "    </tr>\n",
       "    <tr>\n",
       "      <th>5</th>\n",
       "      <td>1210.0</td>\n",
       "      <td>King County (Southeast)--Maple Valley, Covingt...</td>\n",
       "      <td>11615</td>\n",
       "    </tr>\n",
       "  </tbody>\n",
       "</table>\n",
       "</div>"
      ],
      "text/plain": [
       "   oy_count                                          puma_name   puma\n",
       "0    2038.0  King County (West Central)--Burien, SeaTac, Tu...  11611\n",
       "1    2006.0  King County (Southwest Central)--Kent City    ...  11613\n",
       "2    1977.0  King County (Far Southwest)--Federal Way, Des ...  11612\n",
       "3    1853.0  King County (Central)--Renton City, Fairwood, ...  11610\n",
       "4    1530.0  King County (Southwest)--Auburn City & Lakelan...  11614\n",
       "5    1210.0  King County (Southeast)--Maple Valley, Covingt...  11615"
      ]
     },
     "execution_count": 16,
     "metadata": {},
     "output_type": "execute_result"
    }
   ],
   "source": [
    "oy_count_with_esr_wkl_south"
   ]
  },
  {
   "cell_type": "code",
   "execution_count": 17,
   "metadata": {},
   "outputs": [
    {
     "data": {
      "text/plain": [
       "0    King County (West Central)--Burien, SeaTac, Tu...\n",
       "1    King County (Southwest Central)--Kent City    ...\n",
       "2    King County (Far Southwest)--Federal Way, Des ...\n",
       "3    King County (Central)--Renton City, Fairwood, ...\n",
       "4    King County (Southwest)--Auburn City & Lakelan...\n",
       "5    King County (Southeast)--Maple Valley, Covingt...\n",
       "Name: puma_name, dtype: object"
      ]
     },
     "execution_count": 17,
     "metadata": {},
     "output_type": "execute_result"
    }
   ],
   "source": [
    "x = oy_count_with_esr_wkl_south['puma']\n",
    "y = oy_count_with_esr_wkl_south['oy_count']\n",
    "names = oy_count_with_esr_wkl_south['puma_name']\n",
    "names"
   ]
  },
  {
   "cell_type": "code",
   "execution_count": 18,
   "metadata": {},
   "outputs": [
    {
     "data": {
      "text/plain": [
       "['Burien, SeaTac, Tukwila Cities & White Center                                                                                                                                                                                                                                                                                                                                                                                                                                           ',\n",
       " 'Kent City                                                                                                                                                                                                                                                                                                                                                                                                                                                                          ',\n",
       " 'Federal Way, Des Moines Cities & Vashon Island                                                                                                                                                                                                                                                                                                                                                                                                                                         ',\n",
       " 'Renton City, Fairwood, Bryn Mawr & Skyway                                                                                                                                                                                                                                                                                                                                                                                                                                                    ',\n",
       " 'Auburn City & Lakeland                                                                                                                                                                                                                                                                                                                                                                                                                                                                     ',\n",
       " 'Maple Valley, Covington & Enumclaw Cities                                                                                                                                                                                                                                                                                                                                                                                                                                                  ']"
      ]
     },
     "execution_count": 18,
     "metadata": {},
     "output_type": "execute_result"
    }
   ],
   "source": [
    "names = [x.split('--')[1] for x in names]\n",
    "names"
   ]
  },
  {
   "cell_type": "code",
   "execution_count": 19,
   "metadata": {},
   "outputs": [
    {
     "data": {
      "image/png": "[encoded data removed]",
      "text/plain": [
       "<Figure size 864x576 with 1 Axes>"
      ]
     },
     "metadata": {},
     "output_type": "display_data"
    }
   ],
   "source": [
    "plt.style.use(['dark_background'])\n",
    "fig, ax = plt.subplots(1, figsize=(12,8))\n",
    "fig.suptitle(\"Breakdown of Opportunity Youth Estimate for South King County\", fontsize=16, fontweight='bold')\n",
    "ax.bar(x, y, color='orange')\n",
    "ax.set_xlabel('PUMA Codes of South King County', fontsize= 14, fontweight='bold')\n",
    "ax.set_ylabel(\"Count of Opportunity Youth\", fontsize= 14, fontweight='bold')\n",
    "ax.set_yticks(range(0, 2001, 500))\n",
    "ax.set_title(\"Total OY count = 10614\", fontsize=14, fontweight='bold')\n",
    "plt.savefig('oy_south.png');"
   ]
  },
  {
   "cell_type": "code",
   "execution_count": 20,
   "metadata": {},
   "outputs": [],
   "source": [
    "a = oy_count_with_esr_wkl_king['puma']\n",
    "b = oy_count_with_esr_wkl_king['oy_count']"
   ]
  },
  {
   "cell_type": "code",
   "execution_count": 21,
   "metadata": {},
   "outputs": [
    {
     "data": {
      "image/png": "[encoded data removed]",
      "text/plain": [
       "<Figure size 864x576 with 1 Axes>"
      ]
     },
     "metadata": {},
     "output_type": "display_data"
    }
   ],
   "source": [
    "plt.style.use(['dark_background'])\n",
    "fig, ax = plt.subplots(1, figsize=(12,8))\n",
    "fig.suptitle(\"Breakdown of Opportunity Youth Estimate for King County\", fontsize=16, fontweight='bold')\n",
    "rect = ax.bar(a, b)\n",
    "ax.set_xlabel('PUMA Codes of King County', fontsize= 14, fontweight='bold')\n",
    "ax.set_ylabel(\"Count of Opportunity Youth\", fontsize= 14, fontweight='bold')\n",
    "ax.set_yticks(range(0, 2001, 500))\n",
    "ax.set_title(\"Total OY count = 19984 / South King County = 10614\", fontsize=14, fontweight='bold')\n",
    "\n",
    "for x in range(5):\n",
    "    rect[x].set_color('orange')\n",
    "rect[6].set_color('orange')\n",
    "plt.savefig('oy_king.png');"
   ]
  },
  {
   "cell_type": "code",
   "execution_count": 22,
   "metadata": {},
   "outputs": [],
   "source": [
    "x = oy_count_with_esr_wkl_south['puma']\n",
    "y = oy_count_with_esr_wkl_south['oy_count']"
   ]
  },
  {
   "cell_type": "code",
   "execution_count": 23,
   "metadata": {},
   "outputs": [
    {
     "data": {
      "image/png": "[encoded data removed]",
      "text/plain": [
       "<Figure size 864x576 with 1 Axes>"
      ]
     },
     "metadata": {},
     "output_type": "display_data"
    }
   ],
   "source": [
    "import numpy as np\n",
    "counts = [int(y[i]) for i in range(len(y))]\n",
    "plt.style.use(['dark_background'])\n",
    "fig, ax = plt.subplots(1, figsize=(12,8))\n",
    "cmap = plt.get_cmap(\"tab20c\")\n",
    "color = cmap(np.array([2,3,10,11,14,15]))\n",
    "def value_count(count, counts):\n",
    "    absolute = int(count/100.*np.sum(counts))\n",
    "    return \"{}\\n{:.1f}%\".format(absolute, count)\n",
    "fig.suptitle(\"Breakdown of Opportunity Youth Estimate for South King County\",\n",
    "             fontsize=16, fontweight='bold')\n",
    "wedges, texts, autotexts = ax.pie(y, radius=1, labels=x, colors=color, autopct=lambda count: value_count(count, counts), \n",
    "       textprops=dict(size=14, weight='bold'), wedgeprops=dict(edgecolor='w'))\n",
    "ax.set_title(\"Total count = 10614\", fontsize=16, fontweight='bold')\n",
    "ax.legend(wedges, x, title='PUMA Codes', loc='upper left')\n",
    "plt.savefig('SouthKingPie_v2.png');"
   ]
  },
  {
   "cell_type": "code",
   "execution_count": null,
   "metadata": {},
   "outputs": [],
   "source": []
  }
 ],
 "metadata": {
  "kernelspec": {
   "display_name": "Python 3 (oy-env)",
   "language": "python",
   "name": "oy-env"
  },
  "language_info": {
   "codemirror_mode": {
    "name": "ipython",
    "version": 3
   },
   "file_extension": ".py",
   "mimetype": "text/x-python",
   "name": "python",
   "nbconvert_exporter": "python",
   "pygments_lexer": "ipython3",
   "version": "3.8.1"
  }
 },
 "nbformat": 4,
 "nbformat_minor": 4
}
