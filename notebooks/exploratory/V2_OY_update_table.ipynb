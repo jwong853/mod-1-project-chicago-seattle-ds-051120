{
 "cells": [
  {
   "cell_type": "markdown",
   "metadata": {},
   "source": [
    "This notebook will house the updated table 'Opportunity Youth Status by Age' of the 2016 report 'Opportunity Youth in the Road Map Project Region' with current data."
   ]
  },
  {
   "cell_type": "code",
   "execution_count": 1,
   "metadata": {},
   "outputs": [],
   "source": [
    "%load_ext autoreload\n",
    "%autoreload 2"
   ]
  },
  {
   "cell_type": "code",
   "execution_count": 2,
   "metadata": {},
   "outputs": [],
   "source": [
    "import os\n",
    "import sys\n",
    "module_path = os.path.abspath(os.path.join(os.pardir, os.pardir))\n",
    "if module_path not in sys.path:\n",
    "    sys.path.append(module_path)"
   ]
  },
  {
   "cell_type": "code",
   "execution_count": 3,
   "metadata": {},
   "outputs": [],
   "source": [
    "import psycopg2\n",
    "import pandas as pd"
   ]
  },
  {
   "cell_type": "code",
   "execution_count": 4,
   "metadata": {},
   "outputs": [],
   "source": [
    "from src.data import sql_utils"
   ]
  },
  {
   "cell_type": "code",
   "execution_count": 5,
   "metadata": {},
   "outputs": [],
   "source": [
    "DBNAME = \"opportunity_youth\""
   ]
  },
  {
   "cell_type": "code",
   "execution_count": 6,
   "metadata": {},
   "outputs": [],
   "source": [
    "conn = psycopg2.connect(dbname=DBNAME)"
   ]
  },
  {
   "cell_type": "markdown",
   "metadata": {},
   "source": [
    "I want to see the opportunity youth count per PUMA within South King County"
   ]
  },
  {
   "cell_type": "code",
   "execution_count": 7,
   "metadata": {},
   "outputs": [
    {
     "data": {
      "text/html": [
       "<div>\n",
       "<style scoped>\n",
       "    .dataframe tbody tr th:only-of-type {\n",
       "        vertical-align: middle;\n",
       "    }\n",
       "\n",
       "    .dataframe tbody tr th {\n",
       "        vertical-align: top;\n",
       "    }\n",
       "\n",
       "    .dataframe thead th {\n",
       "        text-align: right;\n",
       "    }\n",
       "</style>\n",
       "<table border=\"1\" class=\"dataframe\">\n",
       "  <thead>\n",
       "    <tr style=\"text-align: right;\">\n",
       "      <th></th>\n",
       "      <th>oy_count</th>\n",
       "      <th>puma_name</th>\n",
       "    </tr>\n",
       "  </thead>\n",
       "  <tbody>\n",
       "    <tr>\n",
       "      <th>0</th>\n",
       "      <td>1853.0</td>\n",
       "      <td>King County (Central)--Renton City, Fairwood, ...</td>\n",
       "    </tr>\n",
       "    <tr>\n",
       "      <th>1</th>\n",
       "      <td>1977.0</td>\n",
       "      <td>King County (Far Southwest)--Federal Way, Des ...</td>\n",
       "    </tr>\n",
       "    <tr>\n",
       "      <th>2</th>\n",
       "      <td>1210.0</td>\n",
       "      <td>King County (Southeast)--Maple Valley, Covingt...</td>\n",
       "    </tr>\n",
       "    <tr>\n",
       "      <th>3</th>\n",
       "      <td>2006.0</td>\n",
       "      <td>King County (Southwest Central)--Kent City    ...</td>\n",
       "    </tr>\n",
       "    <tr>\n",
       "      <th>4</th>\n",
       "      <td>1530.0</td>\n",
       "      <td>King County (Southwest)--Auburn City &amp; Lakelan...</td>\n",
       "    </tr>\n",
       "    <tr>\n",
       "      <th>5</th>\n",
       "      <td>2038.0</td>\n",
       "      <td>King County (West Central)--Burien, SeaTac, Tu...</td>\n",
       "    </tr>\n",
       "  </tbody>\n",
       "</table>\n",
       "</div>"
      ],
      "text/plain": [
       "   oy_count                                          puma_name\n",
       "0    1853.0  King County (Central)--Renton City, Fairwood, ...\n",
       "1    1977.0  King County (Far Southwest)--Federal Way, Des ...\n",
       "2    1210.0  King County (Southeast)--Maple Valley, Covingt...\n",
       "3    2006.0  King County (Southwest Central)--Kent City    ...\n",
       "4    1530.0  King County (Southwest)--Auburn City & Lakelan...\n",
       "5    2038.0  King County (West Central)--Burien, SeaTac, Tu..."
      ]
     },
     "execution_count": 7,
     "metadata": {},
     "output_type": "execute_result"
    }
   ],
   "source": [
    "oy_by_puma = pd.read_sql(\"\"\"SELECT SUM(pwgtp) AS oy_count, n.puma_name\n",
    "               FROM pums_2017 p\n",
    "               JOIN puma_names_2010 n\n",
    "               ON p.puma = n.puma\n",
    "               WHERE p.puma BETWEEN '11610' AND '11615'\n",
    "               AND (p.esr = '3' OR p.esr = '6')\n",
    "               AND p.sch = '1'\n",
    "               AND p.agep BETWEEN '16' AND '24'\n",
    "               GROUP BY n.puma_name\n",
    "               \n",
    "               ;\"\"\", conn)\n",
    "oy_by_puma"
   ]
  },
  {
   "cell_type": "markdown",
   "metadata": {},
   "source": [
    "## We have decided to include the PUMAs for South King County as reported by"
   ]
  },
  {
   "cell_type": "code",
   "execution_count": 8,
   "metadata": {},
   "outputs": [
    {
     "data": {
      "text/plain": [
       "oy_count                                                 10614\n",
       "puma_name    King County (Central)--Renton City, Fairwood, ...\n",
       "dtype: object"
      ]
     },
     "execution_count": 8,
     "metadata": {},
     "output_type": "execute_result"
    }
   ],
   "source": [
    "total_oy = oy_by_puma.sum()\n",
    "total_oy"
   ]
  },
  {
   "cell_type": "markdown",
   "metadata": {},
   "source": [
    "## Querying pums_2017 table with the PUMA codes classified as in South King County to return the population of opportunity youth in the age group from 16-18."
   ]
  },
  {
   "cell_type": "markdown",
   "metadata": {},
   "source": [
    "## The total Opportunity Youth population for the age group of 16-18."
   ]
  },
  {
   "cell_type": "code",
   "execution_count": 9,
   "metadata": {},
   "outputs": [
    {
     "data": {
      "text/plain": [
       "1815.0"
      ]
     },
     "execution_count": 9,
     "metadata": {},
     "output_type": "execute_result"
    }
   ],
   "source": [
    "first_pop_by_puma = pd.read_sql(\"\"\"SELECT SUM(pwgtp) AS pop_count, n.puma_name\n",
    "                FROM pums_2017 p\n",
    "                JOIN puma_names_2010 n\n",
    "                ON p.puma = n.puma\n",
    "                WHERE (agep BETWEEN '16' AND '18')\n",
    "                AND (p.puma BETWEEN '11610' AND '11615')\n",
    "                AND (p.sch = '1')\n",
    "                AND (p.esr != '1') \n",
    "                AND (p.esr != '4')\n",
    "                GROUP BY n.puma_name\n",
    "                ;\"\"\", conn)\n",
    "\n",
    "oy_pop_to_8teen = first_pop_by_puma['pop_count'].sum()\n",
    "oy_pop_to_8teen"
   ]
  },
  {
   "cell_type": "markdown",
   "metadata": {},
   "source": [
    "## The total Opportunity Youth population for the age group of 19-21."
   ]
  },
  {
   "cell_type": "code",
   "execution_count": 10,
   "metadata": {},
   "outputs": [
    {
     "data": {
      "text/plain": [
       "4083.0"
      ]
     },
     "execution_count": 10,
     "metadata": {},
     "output_type": "execute_result"
    }
   ],
   "source": [
    "second_pop_by_puma = pd.read_sql(\"\"\"SELECT SUM(pwgtp) AS pop_count, n.puma_name\n",
    "                FROM pums_2017 p\n",
    "                JOIN puma_names_2010 n\n",
    "                ON p.puma = n.puma\n",
    "                WHERE agep BETWEEN '19' AND '21'\n",
    "                AND p.puma BETWEEN '11610' AND '11615'\n",
    "                AND (p.sch = '1')\n",
    "                AND (p.esr != '1' AND p.esr != '4')\n",
    "                GROUP BY n.puma_name\n",
    "                ;\"\"\", conn)\n",
    "oy_pop_to_2one = second_pop_by_puma['pop_count'].sum()\n",
    "oy_pop_to_2one"
   ]
  },
  {
   "cell_type": "markdown",
   "metadata": {},
   "source": [
    "## The total Opportunity Youth population for the age group of 22-24."
   ]
  },
  {
   "cell_type": "code",
   "execution_count": 11,
   "metadata": {},
   "outputs": [
    {
     "data": {
      "text/plain": [
       "5217.0"
      ]
     },
     "execution_count": 11,
     "metadata": {},
     "output_type": "execute_result"
    }
   ],
   "source": [
    "third_pop_by_puma = pd.read_sql(\"\"\"SELECT SUM(pwgtp) AS pop_count, n.puma_name\n",
    "                FROM pums_2017 p\n",
    "                JOIN puma_names_2010 n\n",
    "                ON p.puma = n.puma\n",
    "                WHERE agep BETWEEN '22' AND '24'\n",
    "                AND p.puma BETWEEN '11610' AND '11615'\n",
    "                AND (p.esr != '1' AND p.esr != '4')\n",
    "                AND (p.sch = '1')\n",
    "                GROUP BY n.puma_name\n",
    "                ;\"\"\", conn)\n",
    "oy_pop_to_2four = third_pop_by_puma['pop_count'].sum()\n",
    "oy_pop_to_2four"
   ]
  },
  {
   "cell_type": "markdown",
   "metadata": {},
   "source": [
    "## The total Opportunity Youth population for all age groups 16-24."
   ]
  },
  {
   "cell_type": "code",
   "execution_count": 12,
   "metadata": {},
   "outputs": [
    {
     "data": {
      "text/plain": [
       "11115.0"
      ]
     },
     "execution_count": 12,
     "metadata": {},
     "output_type": "execute_result"
    }
   ],
   "source": [
    "oy_pop_total = (oy_pop_to_8teen + oy_pop_to_2one + oy_pop_to_2four)\n",
    "oy_pop_total"
   ]
  },
  {
   "cell_type": "code",
   "execution_count": 13,
   "metadata": {},
   "outputs": [
    {
     "data": {
      "text/plain": [
       "30141.0"
      ]
     },
     "execution_count": 13,
     "metadata": {},
     "output_type": "execute_result"
    }
   ],
   "source": [
    "first_total_pop = pd.read_sql(\"\"\"SELECT SUM(pwgtp) AS pop_count, n.puma_name\n",
    "                FROM pums_2017 p\n",
    "                JOIN puma_names_2010 n\n",
    "                ON p.puma = n.puma\n",
    "                WHERE agep BETWEEN '16' AND '18'\n",
    "                AND p.puma BETWEEN '11610' AND '11615'\n",
    "                GROUP BY n.puma_name\n",
    "                ;\"\"\", conn)\n",
    "total_pop_to_8teen = first_total_pop['pop_count'].sum()\n",
    "total_pop_to_8teen"
   ]
  },
  {
   "cell_type": "code",
   "execution_count": 14,
   "metadata": {},
   "outputs": [
    {
     "data": {
      "text/plain": [
       "25486.0"
      ]
     },
     "execution_count": 14,
     "metadata": {},
     "output_type": "execute_result"
    }
   ],
   "source": [
    "second_total_pop = pd.read_sql(\"\"\"SELECT SUM(pwgtp) AS pop_count, n.puma_name\n",
    "                FROM pums_2017 p\n",
    "                JOIN puma_names_2010 n\n",
    "                ON p.puma = n.puma\n",
    "                WHERE agep BETWEEN '19' AND '21'\n",
    "                AND p.puma BETWEEN '11610' AND '11615'\n",
    "                GROUP BY n.puma_name\n",
    "                ;\"\"\", conn)\n",
    "total_pop_to_2one = second_total_pop['pop_count'].sum()\n",
    "total_pop_to_2one"
   ]
  },
  {
   "cell_type": "code",
   "execution_count": 15,
   "metadata": {},
   "outputs": [
    {
     "data": {
      "text/plain": [
       "30256.0"
      ]
     },
     "execution_count": 15,
     "metadata": {},
     "output_type": "execute_result"
    }
   ],
   "source": [
    "third_total_pop = pd.read_sql(\"\"\"SELECT SUM(pwgtp) AS pop_count, n.puma_name\n",
    "                FROM pums_2017 p\n",
    "                JOIN puma_names_2010 n\n",
    "                ON p.puma = n.puma\n",
    "                WHERE agep BETWEEN '22' AND '24'\n",
    "                AND p.puma BETWEEN '11610' AND '11615'\n",
    "                GROUP BY n.puma_name\n",
    "                ;\"\"\", conn)\n",
    "total_pop_to_2four = third_total_pop['pop_count'].sum()\n",
    "total_pop_to_2four"
   ]
  },
  {
   "cell_type": "markdown",
   "metadata": {},
   "source": [
    "## The total population for all age groups 16-24 as defined in the Road Map Project region."
   ]
  },
  {
   "cell_type": "code",
   "execution_count": 16,
   "metadata": {},
   "outputs": [
    {
     "data": {
      "text/plain": [
       "85883.0"
      ]
     },
     "execution_count": 16,
     "metadata": {},
     "output_type": "execute_result"
    }
   ],
   "source": [
    "population_total = (total_pop_to_8teen + total_pop_to_2one + total_pop_to_2four)\n",
    "population_total"
   ]
  },
  {
   "cell_type": "markdown",
   "metadata": {},
   "source": [
    "## Here, I chose to utilize the variables esr(employment status), cow(class of worker), and schl(educational attainment).  I am querying these to see the amount of opportunity youth between the ages of 16-18 that are currently working without a diploma.  ESR equalling 1(civilian employed, at work) or 2(armed forces, at work) COW not equalling 9(unemployed)"
   ]
  },
  {
   "cell_type": "markdown",
   "metadata": {},
   "source": [
    "## The total population for the age group 16-18 that are working without a diploma."
   ]
  },
  {
   "cell_type": "code",
   "execution_count": 24,
   "metadata": {},
   "outputs": [
    {
     "data": {
      "text/plain": [
       "4292.0"
      ]
     },
     "execution_count": 24,
     "metadata": {},
     "output_type": "execute_result"
    }
   ],
   "source": [
    "work_no_diploma1 = pd.read_sql(\"\"\"SELECT SUM(pwgtp) AS pop_count, n.puma_name, p.puma\n",
    "                                            FROM pums_2017 p\n",
    "                                            JOIN puma_names_2010 n\n",
    "                                            ON p.puma = n.puma\n",
    "                                            WHERE p.puma BETWEEN '11610' AND '11615'\n",
    "                                            AND (p.esr = '1' OR p.esr = '4')\n",
    "                                            AND (p.cow != '9')\n",
    "                                            AND NOT (p.schl > '15') \n",
    "                                            AND p.agep BETWEEN '16' AND '18'\n",
    "                                            GROUP BY n.puma_name, p.puma\n",
    "                                            ;\"\"\", conn)\n",
    "work_no_diploma1\n",
    "work_no_dip_18_total = work_no_diploma1['pop_count'].sum()\n",
    "work_no_dip_18_total"
   ]
  },
  {
   "cell_type": "markdown",
   "metadata": {},
   "source": [
    "## The total population for the age group 19-21 that are working without a diploma."
   ]
  },
  {
   "cell_type": "code",
   "execution_count": 25,
   "metadata": {},
   "outputs": [
    {
     "data": {
      "text/plain": [
       "1588.0"
      ]
     },
     "execution_count": 25,
     "metadata": {},
     "output_type": "execute_result"
    }
   ],
   "source": [
    "work_no_diploma2 = pd.read_sql(\"\"\"SELECT SUM(pwgtp) AS pop_count, n.puma_name, p.puma\n",
    "                                            FROM pums_2017 p\n",
    "                                            JOIN puma_names_2010 n\n",
    "                                            ON p.puma = n.puma\n",
    "                                            WHERE p.puma BETWEEN '11610' AND '11615'\n",
    "                                            AND (p.esr = '1' OR p.esr = '4')\n",
    "                                            AND (p.cow != '9')\n",
    "                                            AND NOT (p.schl > '15') \n",
    "                                            AND p.agep BETWEEN '19' AND '21'\n",
    "                                            GROUP BY n.puma_name, p.puma\n",
    "                                            ;\"\"\", conn)\n",
    "work_no_dip_21 = work_no_diploma2['pop_count'].sum()\n",
    "work_no_dip_21"
   ]
  },
  {
   "cell_type": "markdown",
   "metadata": {},
   "source": [
    "## The total population for the age group 22-24 that are working without a diploma."
   ]
  },
  {
   "cell_type": "code",
   "execution_count": 26,
   "metadata": {},
   "outputs": [
    {
     "data": {
      "text/plain": [
       "1663.0"
      ]
     },
     "execution_count": 26,
     "metadata": {},
     "output_type": "execute_result"
    }
   ],
   "source": [
    "work_no_diploma3 = pd.read_sql(\"\"\"SELECT SUM(pwgtp) AS pop_count, n.puma_name, p.puma\n",
    "                                            FROM pums_2017 p\n",
    "                                            JOIN puma_names_2010 n\n",
    "                                            ON p.puma = n.puma\n",
    "                                            WHERE p.puma BETWEEN '11610' AND '11615'\n",
    "                                            AND (p.esr = '1' OR p.esr = '4')\n",
    "                                            AND (p.cow != '9')\n",
    "                                            AND NOT (p.schl > '15') \n",
    "                                            AND p.agep BETWEEN '22' AND '24'\n",
    "                                            GROUP BY n.puma_name, p.puma\n",
    "                                            ;\"\"\", conn) \n",
    "work_no_dip_24 = work_no_diploma3['pop_count'].sum()\n",
    "work_no_dip_24"
   ]
  },
  {
   "cell_type": "markdown",
   "metadata": {},
   "source": [
    "## The total population for all age groups 16-24 that are currently working without a dipoloma."
   ]
  },
  {
   "cell_type": "code",
   "execution_count": 80,
   "metadata": {},
   "outputs": [
    {
     "data": {
      "text/plain": [
       "7543.0"
      ]
     },
     "execution_count": 80,
     "metadata": {},
     "output_type": "execute_result"
    }
   ],
   "source": [
    "work_no_dip_total = (work_no_dip_18_total + work_no_dip_21 + work_no_dip_24)\n",
    "work_no_dip_total"
   ]
  },
  {
   "cell_type": "markdown",
   "metadata": {},
   "source": [
    "# Querying the entire population within the Roadmap Project region that are not classified as Opportunity Youth by removing the ESR, COW, and SCHL variables."
   ]
  },
  {
   "cell_type": "markdown",
   "metadata": {},
   "source": [
    "## The total population for the age group 16-18 that are not considered Opportunity Youth."
   ]
  },
  {
   "cell_type": "code",
   "execution_count": 29,
   "metadata": {},
   "outputs": [
    {
     "data": {
      "text/plain": [
       "24034.0"
      ]
     },
     "execution_count": 29,
     "metadata": {},
     "output_type": "execute_result"
    }
   ],
   "source": [
    "not_oy_youth1 = pd.read_sql(\"\"\"SELECT SUM(pwgtp) AS pop_count, n.puma_name\n",
    "                FROM pums_2017 p\n",
    "                JOIN puma_names_2010 n\n",
    "                ON p.puma = n.puma\n",
    "                WHERE agep BETWEEN '16' AND '18'\n",
    "                AND (p.puma BETWEEN '11610' AND '11615')\n",
    "                GROUP BY n.puma_name\n",
    "                ;\"\"\", conn)\n",
    "not_oy_to_8teen = (total_pop_to_8teen - work_no_dip_18_total - oy_pop_to_8teen)\n",
    "not_oy_to_8teen"
   ]
  },
  {
   "cell_type": "markdown",
   "metadata": {},
   "source": [
    "## The total population for the age group 19-21 that are not considered Opportunity Youth."
   ]
  },
  {
   "cell_type": "code",
   "execution_count": 30,
   "metadata": {},
   "outputs": [
    {
     "data": {
      "text/plain": [
       "19815.0"
      ]
     },
     "execution_count": 30,
     "metadata": {},
     "output_type": "execute_result"
    }
   ],
   "source": [
    "not_oy_youth2 = pd.read_sql(\"\"\"SELECT SUM(pwgtp) AS pop_count, n.puma_name\n",
    "                FROM pums_2017 p\n",
    "                JOIN puma_names_2010 n\n",
    "                ON p.puma = n.puma\n",
    "                WHERE agep BETWEEN '19' AND '21'\n",
    "                AND (p.puma BETWEEN '11610' AND '11615')\n",
    "                GROUP BY n.puma_name\n",
    "                ;\"\"\", conn)\n",
    "not_oy_to_2one = (total_pop_to_2one - work_no_dip_21 - oy_pop_to_2one)\n",
    "not_oy_to_2one"
   ]
  },
  {
   "cell_type": "markdown",
   "metadata": {},
   "source": [
    "## The total population for the age group 22-24 that are not considered Opportunity Youth."
   ]
  },
  {
   "cell_type": "code",
   "execution_count": 33,
   "metadata": {},
   "outputs": [
    {
     "data": {
      "text/plain": [
       "23376.0"
      ]
     },
     "execution_count": 33,
     "metadata": {},
     "output_type": "execute_result"
    }
   ],
   "source": [
    "not_oy_youth3 = pd.read_sql(\"\"\"SELECT SUM(pwgtp) AS pop_count, n.puma_name\n",
    "                FROM pums_2017 p\n",
    "                JOIN puma_names_2010 n\n",
    "                ON p.puma = n.puma\n",
    "                WHERE agep BETWEEN '22' AND '24'\n",
    "                AND (p.puma BETWEEN '11610' AND '11615')\n",
    "                GROUP BY n.puma_name\n",
    "                ;\"\"\", conn)\n",
    "not_oy_to_2four = (total_pop_to_2four - work_no_dip_24 - oy_pop_to_2four)\n",
    "not_oy_to_2four"
   ]
  },
  {
   "cell_type": "markdown",
   "metadata": {},
   "source": [
    "## The total population for all age groups 16-24 that are not classified as Opportunity Youth."
   ]
  },
  {
   "cell_type": "code",
   "execution_count": 32,
   "metadata": {},
   "outputs": [
    {
     "data": {
      "text/plain": [
       "67225.0"
      ]
     },
     "execution_count": 32,
     "metadata": {},
     "output_type": "execute_result"
    }
   ],
   "source": [
    "not_oy_youth_total = (not_oy_to_8teen + not_oy_to_2one + not_oy_to_2four)\n",
    "not_oy_youth_total"
   ]
  },
  {
   "cell_type": "markdown",
   "metadata": {},
   "source": [
    "## Querying to find the total population for the age group 16-18 that are classified as Opportunity Youth and do not have a diploma."
   ]
  },
  {
   "cell_type": "code",
   "execution_count": 34,
   "metadata": {},
   "outputs": [
    {
     "data": {
      "text/plain": [
       "916.0"
      ]
     },
     "execution_count": 34,
     "metadata": {},
     "output_type": "execute_result"
    }
   ],
   "source": [
    "oy_no_dip1 = pd.read_sql(\"\"\"SELECT SUM(pwgtp) AS pop_count, n.puma_name\n",
    "                FROM pums_2017 p\n",
    "                JOIN puma_names_2010 n\n",
    "                ON p.puma = n.puma\n",
    "                WHERE (agep BETWEEN '16' AND '18')\n",
    "                AND (p.puma BETWEEN '11610' AND '11615')\n",
    "                AND (p.sch = '1')\n",
    "                AND (p.schl NOT BETWEEN '16' AND '23')\n",
    "                AND (p.esr != '1') \n",
    "                AND (p.esr != '4')\n",
    "                GROUP BY n.puma_name\n",
    "                ;\"\"\", conn)\n",
    "\n",
    "oy_no_dip_8teen = oy_no_dip1['pop_count'].sum()\n",
    "oy_no_dip_8teen"
   ]
  },
  {
   "cell_type": "markdown",
   "metadata": {},
   "source": [
    "## The total population for the age group 19-21 that are classified as Opportunity Youth and do not have a diploma."
   ]
  },
  {
   "cell_type": "code",
   "execution_count": 35,
   "metadata": {},
   "outputs": [
    {
     "data": {
      "text/plain": [
       "1135.0"
      ]
     },
     "execution_count": 35,
     "metadata": {},
     "output_type": "execute_result"
    }
   ],
   "source": [
    "oy_no_dip2 = pd.read_sql(\"\"\"SELECT SUM(pwgtp) AS pop_count, n.puma_name, p.puma\n",
    "                                            FROM pums_2017 p\n",
    "                                            JOIN puma_names_2010 n\n",
    "                                            ON p.puma = n.puma\n",
    "                                            WHERE (agep BETWEEN '19' AND '21')\n",
    "                                            AND (p.puma BETWEEN '11610' AND '11615')\n",
    "                                            AND (p.sch = '1')\n",
    "                                            AND (p.schl NOT BETWEEN '16' AND '23')\n",
    "                                            AND (p.esr != '1') \n",
    "                                            AND (p.esr != '4')\n",
    "                                            GROUP BY n.puma_name, p.puma\n",
    "                                            ;\"\"\", conn)\n",
    "oy_no_dip_2one = oy_no_dip2['pop_count'].sum()\n",
    "oy_no_dip_2one"
   ]
  },
  {
   "cell_type": "markdown",
   "metadata": {},
   "source": [
    "## The total population for the age group 22-24 that are classified as Opportunity Youth and do not have a diploma."
   ]
  },
  {
   "cell_type": "code",
   "execution_count": 116,
   "metadata": {},
   "outputs": [
    {
     "data": {
      "text/plain": [
       "1391.0"
      ]
     },
     "execution_count": 116,
     "metadata": {},
     "output_type": "execute_result"
    }
   ],
   "source": [
    "oy_no_dip3 = pd.read_sql(\"\"\"SELECT SUM(pwgtp) AS pop_count, n.puma_name, p.puma\n",
    "                                            FROM pums_2017 p\n",
    "                                            JOIN puma_names_2010 n\n",
    "                                            ON p.puma = n.puma\n",
    "                                            WHERE (agep BETWEEN '22' AND '24')\n",
    "                                            AND (p.puma BETWEEN '11610' AND '11615')\n",
    "                                            AND (p.sch = '1')\n",
    "                                            AND (p.schl NOT BETWEEN '16' AND '23')\n",
    "                                            AND (p.esr != '1') \n",
    "                                            AND (p.esr != '4')\n",
    "                                            GROUP BY n.puma_name, p.puma\n",
    "                                            ;\"\"\", conn)\n",
    "oy_no_dip_2four = oy_no_dip3['pop_count'].sum()\n",
    "oy_no_dip_2four "
   ]
  },
  {
   "cell_type": "markdown",
   "metadata": {},
   "source": [
    "## The total population for all age groups 16-24 that are classified as Opportunity Youth and do not have a diploma."
   ]
  },
  {
   "cell_type": "code",
   "execution_count": 132,
   "metadata": {},
   "outputs": [
    {
     "data": {
      "text/plain": [
       "3442.0"
      ]
     },
     "execution_count": 132,
     "metadata": {},
     "output_type": "execute_result"
    }
   ],
   "source": [
    "oy_no_dip_total = (oy_no_dip_8teen + oy_no_dip_2one + oy_no_dip_2four)\n",
    "oy_no_dip_total"
   ]
  },
  {
   "cell_type": "markdown",
   "metadata": {},
   "source": [
    "## The total population for the age group 16-18 that are classified as Opportunity Youth having a diploma or GED."
   ]
  },
  {
   "cell_type": "code",
   "execution_count": 36,
   "metadata": {},
   "outputs": [
    {
     "data": {
      "text/plain": [
       "781.0"
      ]
     },
     "execution_count": 36,
     "metadata": {},
     "output_type": "execute_result"
    }
   ],
   "source": [
    "oy_dip_ged1 = pd.read_sql(\"\"\"SELECT SUM(pwgtp) AS pop_count, n.puma_name, p.puma\n",
    "                                            FROM pums_2017 p\n",
    "                                            JOIN puma_names_2010 n\n",
    "                                            ON p.puma = n.puma\n",
    "                                            WHERE (agep BETWEEN '16' AND '18')\n",
    "                                            AND (p.puma BETWEEN '11610' AND '11615')\n",
    "                                            AND (p.sch = '1')\n",
    "                                            AND (p.schl = '16' OR p.schl = '17')\n",
    "                                            AND (p.esr != '1') \n",
    "                                            AND (p.esr != '4')\n",
    "                                            GROUP BY n.puma_name, p.puma\n",
    "                                            ;\"\"\", conn)\n",
    "oy_dip_ged_8teen = oy_dip_ged1['pop_count'].sum()\n",
    "oy_dip_ged_8teen "
   ]
  },
  {
   "cell_type": "markdown",
   "metadata": {},
   "source": [
    "## The total population for the age group 19-21 that are classified as Opportunity Youth having a diploma or GED."
   ]
  },
  {
   "cell_type": "code",
   "execution_count": 37,
   "metadata": {},
   "outputs": [
    {
     "data": {
      "text/plain": [
       "2183.0"
      ]
     },
     "execution_count": 37,
     "metadata": {},
     "output_type": "execute_result"
    }
   ],
   "source": [
    "oy_dip_ged2 = pd.read_sql(\"\"\"SELECT SUM(pwgtp) AS pop_count, n.puma_name, p.puma\n",
    "                                            FROM pums_2017 p\n",
    "                                            JOIN puma_names_2010 n\n",
    "                                            ON p.puma = n.puma\n",
    "                                            WHERE (agep BETWEEN '19' AND '21')\n",
    "                                            AND (p.puma BETWEEN '11610' AND '11615')\n",
    "                                            AND (p.sch = '1')\n",
    "                                            AND (p.schl = '16' OR p.schl = '17')\n",
    "                                            AND (p.esr != '1') \n",
    "                                            AND (p.esr != '4')\n",
    "                                            GROUP BY n.puma_name, p.puma\n",
    "                                            ;\"\"\", conn)\n",
    "oy_dip_ged_2one = oy_dip_ged2['pop_count'].sum()\n",
    "oy_dip_ged_2one "
   ]
  },
  {
   "cell_type": "markdown",
   "metadata": {},
   "source": [
    "## The total population for the age group 22-24 that are classified as Opportunity Youth having a diploma or GED."
   ]
  },
  {
   "cell_type": "code",
   "execution_count": 38,
   "metadata": {},
   "outputs": [
    {
     "data": {
      "text/plain": [
       "2325.0"
      ]
     },
     "execution_count": 38,
     "metadata": {},
     "output_type": "execute_result"
    }
   ],
   "source": [
    "oy_dip_ged3 = pd.read_sql(\"\"\"SELECT SUM(pwgtp) AS pop_count, n.puma_name, p.puma\n",
    "                                            FROM pums_2017 p\n",
    "                                            JOIN puma_names_2010 n\n",
    "                                            ON p.puma = n.puma\n",
    "                                            WHERE (agep BETWEEN '22' AND '24')\n",
    "                                            AND (p.puma BETWEEN '11610' AND '11615')\n",
    "                                            AND (p.sch = '1')\n",
    "                                            AND (p.schl = '16' OR p.schl = '17')\n",
    "                                            AND (p.esr != '1') \n",
    "                                            AND (p.esr != '4')\n",
    "                                            GROUP BY n.puma_name, p.puma\n",
    "                                            ;\"\"\", conn)\n",
    "oy_dip_ged_2four = oy_dip_ged3['pop_count'].sum()\n",
    "oy_dip_ged_2four "
   ]
  },
  {
   "cell_type": "markdown",
   "metadata": {},
   "source": [
    "## The total population for all age groups 16-24 that are classified as Opportunity Youth having a diploma or GED."
   ]
  },
  {
   "cell_type": "code",
   "execution_count": 39,
   "metadata": {},
   "outputs": [
    {
     "data": {
      "text/plain": [
       "5289.0"
      ]
     },
     "execution_count": 39,
     "metadata": {},
     "output_type": "execute_result"
    }
   ],
   "source": [
    "oy_dip_ged_total = (oy_dip_ged_8teen + oy_dip_ged_2one + oy_dip_ged_2four)\n",
    "oy_dip_ged_total"
   ]
  },
  {
   "cell_type": "markdown",
   "metadata": {},
   "source": [
    "## Population for the age group 16-18 that have attended some college but do not possess a degree."
   ]
  },
  {
   "cell_type": "code",
   "execution_count": 40,
   "metadata": {},
   "outputs": [
    {
     "data": {
      "text/plain": [
       "118.0"
      ]
     },
     "execution_count": 40,
     "metadata": {},
     "output_type": "execute_result"
    }
   ],
   "source": [
    "some_col1 = pd.read_sql(\"\"\"SELECT SUM(pwgtp) AS pop_count, n.puma_name, p.puma\n",
    "                                            FROM pums_2017 p\n",
    "                                            JOIN puma_names_2010 n\n",
    "                                            ON p.puma = n.puma\n",
    "                                            WHERE (agep BETWEEN '16' AND '18')\n",
    "                                            AND (p.puma BETWEEN '11610' AND '11615')\n",
    "                                            AND (p.sch = '1')\n",
    "                                            AND (p.schl = '18' OR p.schl = '19')\n",
    "                                            AND (p.esr != '1' AND p.esr != '4') \n",
    "                                            AND (p.esr != '4')\n",
    "                                            GROUP BY n.puma_name, p.puma\n",
    "                                            ;\"\"\", conn)\n",
    "some_col_8teen = some_col1['pop_count'].sum()\n",
    "some_col_8teen"
   ]
  },
  {
   "cell_type": "code",
   "execution_count": 44,
   "metadata": {},
   "outputs": [
    {
     "data": {
      "text/plain": [
       "118.0"
      ]
     },
     "execution_count": 44,
     "metadata": {},
     "output_type": "execute_result"
    }
   ],
   "source": [
    "some_col12_query = sql_utils.open_sql_script('13_some_college.sql')\n",
    "some_col12 = pd.read_sql(some_col12_query, conn)\n",
    "some_col12_total = some_col12['pop_count'].sum()\n",
    "some_col12_total"
   ]
  },
  {
   "cell_type": "markdown",
   "metadata": {},
   "source": [
    "## Population for the age group 19-21 that have attended some college but do not possess a degree."
   ]
  },
  {
   "cell_type": "code",
   "execution_count": 41,
   "metadata": {},
   "outputs": [
    {
     "data": {
      "text/plain": [
       "649.0"
      ]
     },
     "execution_count": 41,
     "metadata": {},
     "output_type": "execute_result"
    }
   ],
   "source": [
    "some_col2 = pd.read_sql(\"\"\"SELECT SUM(pwgtp) AS pop_count, n.puma_name, p.puma\n",
    "                                            FROM pums_2017 p\n",
    "                                            JOIN puma_names_2010 n\n",
    "                                            ON p.puma = n.puma\n",
    "                                            WHERE (agep BETWEEN '19' AND '21')\n",
    "                                            AND (p.puma BETWEEN '11610' AND '11615')\n",
    "                                            AND (p.sch = '1')\n",
    "                                            AND (p.schl = '18' OR p.schl = '19')\n",
    "                                            AND (p.esr != '1') \n",
    "                                            AND (p.esr != '4')\n",
    "                                            GROUP BY n.puma_name, p.puma\n",
    "                                            ;\"\"\", conn)\n",
    "some_col_2one = some_col2['pop_count'].sum()\n",
    "some_col_2one"
   ]
  },
  {
   "cell_type": "markdown",
   "metadata": {},
   "source": [
    "## Population for the age group 22-24 that have attended some college but do not possess a degree."
   ]
  },
  {
   "cell_type": "code",
   "execution_count": 126,
   "metadata": {},
   "outputs": [
    {
     "data": {
      "text/plain": [
       "1074.0"
      ]
     },
     "execution_count": 126,
     "metadata": {},
     "output_type": "execute_result"
    }
   ],
   "source": [
    "some_col3 = pd.read_sql(\"\"\"SELECT SUM(pwgtp) AS pop_count, n.puma_name, p.puma\n",
    "                                            FROM pums_2017 p\n",
    "                                            JOIN puma_names_2010 n\n",
    "                                            ON p.puma = n.puma\n",
    "                                            WHERE (agep BETWEEN '22' AND '24')\n",
    "                                            AND (p.puma BETWEEN '11610' AND '11615')\n",
    "                                            AND (p.sch = '1')\n",
    "                                            AND (p.schl = '18' OR p.schl = '19')\n",
    "                                            AND (p.esr != '1') \n",
    "                                            AND (p.esr != '4')\n",
    "                                            GROUP BY n.puma_name, p.puma\n",
    "                                            ;\"\"\", conn)\n",
    "some_col_2four = some_col3['pop_count'].sum()\n",
    "some_col_2four"
   ]
  },
  {
   "cell_type": "code",
   "execution_count": 103,
   "metadata": {},
   "outputs": [
    {
     "data": {
      "text/plain": [
       "20201.0"
      ]
     },
     "execution_count": 103,
     "metadata": {},
     "output_type": "execute_result"
    }
   ],
   "source": [
    "some_col_total = (some_col_8teen + some_col_2one + some_col_2four)\n",
    "some_col_total"
   ]
  },
  {
   "cell_type": "code",
   "execution_count": 127,
   "metadata": {},
   "outputs": [
    {
     "data": {
      "text/plain": [
       "0"
      ]
     },
     "execution_count": 127,
     "metadata": {},
     "output_type": "execute_result"
    }
   ],
   "source": [
    "ass_deg1 = pd.read_sql(\"\"\"SELECT SUM(pwgtp) AS pop_count, n.puma_name, p.puma\n",
    "                                            FROM pums_2017 p\n",
    "                                            JOIN puma_names_2010 n\n",
    "                                            ON p.puma = n.puma\n",
    "                                            WHERE (agep BETWEEN '16' AND '18')\n",
    "                                            AND (p.puma BETWEEN '11610' AND '11615')\n",
    "                                            AND (p.sch = '1')\n",
    "                                            AND (p.schl >= '20')\n",
    "                                            AND (p.esr != '1') \n",
    "                                            AND (p.esr != '4')\n",
    "                                            GROUP BY n.puma_name, p.puma\n",
    "                                            ;\"\"\", conn)\n",
    "ass_deg8teen = ass_deg1['pop_count'].sum()\n",
    "ass_deg8teen"
   ]
  },
  {
   "cell_type": "code",
   "execution_count": 128,
   "metadata": {},
   "outputs": [
    {
     "data": {
      "text/plain": [
       "116.0"
      ]
     },
     "execution_count": 128,
     "metadata": {},
     "output_type": "execute_result"
    }
   ],
   "source": [
    "ass_deg2 = pd.read_sql(\"\"\"SELECT SUM(pwgtp) AS pop_count, n.puma_name, p.puma\n",
    "                                            FROM pums_2017 p\n",
    "                                            JOIN puma_names_2010 n\n",
    "                                            ON p.puma = n.puma\n",
    "                                           WHERE (agep BETWEEN '19' AND '21')\n",
    "                                            AND (p.puma BETWEEN '11610' AND '11615')\n",
    "                                            AND (p.sch = '1')\n",
    "                                            AND (p.schl >= '20')\n",
    "                                            AND (p.esr != '1') \n",
    "                                            AND (p.esr != '4')\n",
    "                                            GROUP BY n.puma_name, p.puma\n",
    "                                            ;\"\"\", conn)\n",
    "ass_deg2one = ass_deg2['pop_count'].sum()\n",
    "ass_deg2one"
   ]
  },
  {
   "cell_type": "code",
   "execution_count": 129,
   "metadata": {},
   "outputs": [
    {
     "data": {
      "text/plain": [
       "427.0"
      ]
     },
     "execution_count": 129,
     "metadata": {},
     "output_type": "execute_result"
    }
   ],
   "source": [
    "ass_deg3 = pd.read_sql(\"\"\"SELECT SUM(pwgtp) AS pop_count, n.puma_name, p.puma\n",
    "                                            FROM pums_2017 p\n",
    "                                            JOIN puma_names_2010 n\n",
    "                                            ON p.puma = n.puma\n",
    "                                            WHERE (agep BETWEEN '22' AND '24')\n",
    "                                            AND (p.puma BETWEEN '11610' AND '11615')\n",
    "                                            AND (p.sch = '1')\n",
    "                                            AND (p.schl >= '20')\n",
    "                                            AND (p.esr != '1') \n",
    "                                            AND (p.esr != '4')\n",
    "                                            GROUP BY n.puma_name, p.puma\n",
    "                                            ;\"\"\", conn)\n",
    "ass_deg2four = ass_deg3['pop_count'].sum()\n",
    "ass_deg2four"
   ]
  },
  {
   "cell_type": "code",
   "execution_count": 130,
   "metadata": {},
   "outputs": [
    {
     "data": {
      "text/plain": [
       "543.0"
      ]
     },
     "execution_count": 130,
     "metadata": {},
     "output_type": "execute_result"
    }
   ],
   "source": [
    "ass_degree_total = (ass_deg8teen + ass_deg2one + ass_deg2four)\n",
    "ass_degree_total"
   ]
  },
  {
   "cell_type": "code",
   "execution_count": null,
   "metadata": {},
   "outputs": [],
   "source": []
  }
 ],
 "metadata": {
  "kernelspec": {
   "display_name": "Python 3 (oy-env)",
   "language": "python",
   "name": "oy-env"
  },
  "language_info": {
   "codemirror_mode": {
    "name": "ipython",
    "version": 3
   },
   "file_extension": ".py",
   "mimetype": "text/x-python",
   "name": "python",
   "nbconvert_exporter": "python",
   "pygments_lexer": "ipython3",
   "version": "3.8.1"
  }
 },
 "nbformat": 4,
 "nbformat_minor": 4
}
