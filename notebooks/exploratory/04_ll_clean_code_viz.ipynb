{
 "cells": [
  {
   "cell_type": "code",
   "execution_count": 79,
   "metadata": {},
   "outputs": [],
   "source": [
    "%load_ext autoreload\n",
    "%autoreload 2"
   ]
  },
  {
   "cell_type": "code",
   "execution_count": 103,
   "metadata": {},
   "outputs": [],
   "source": [
    "import os\n",
    "import sys\n",
    "module_path = os.path.abspath(os.path.join(os.pardir, os.pardir))\n",
    "if module_path not in sys.path:\n",
    "    sys.path.append(module_path)"
   ]
  },
  {
   "cell_type": "code",
   "execution_count": 104,
   "metadata": {},
   "outputs": [],
   "source": [
    "import psycopg2\n",
    "import pandas as pd"
   ]
  },
  {
   "cell_type": "code",
   "execution_count": 105,
   "metadata": {},
   "outputs": [],
   "source": [
    "DBNAME = \"opportunity_youth\""
   ]
  },
  {
   "cell_type": "code",
   "execution_count": 108,
   "metadata": {},
   "outputs": [],
   "source": [
    "conn = psycopg2.connect(dbname=DBNAME)"
   ]
  },
  {
   "cell_type": "code",
   "execution_count": 109,
   "metadata": {},
   "outputs": [
    {
     "data": {
      "text/plain": [
       "10614.0"
      ]
     },
     "execution_count": 109,
     "metadata": {},
     "output_type": "execute_result"
    }
   ],
   "source": [
    "south_oy = pd.read_sql(\"\"\"SELECT SUM(pwgtp) AS oy_count, puma\n",
    "                          FROM pums_2017 \n",
    "                          WHERE puma BETWEEN '11610' AND '11615'\n",
    "                          AND (esr = '3' OR esr = '6')\n",
    "                          AND sch = '1'\n",
    "                          AND agep BETWEEN '16' AND '24'\n",
    "                          GROUP BY puma\n",
    "                          ;\"\"\", conn)\n",
    "south_oy_total = south_oy['oy_count'].sum()\n",
    "south_oy_total"
   ]
  },
  {
   "cell_type": "code",
   "execution_count": 110,
   "metadata": {},
   "outputs": [
    {
     "data": {
      "text/plain": [
       "1815.0"
      ]
     },
     "execution_count": 110,
     "metadata": {},
     "output_type": "execute_result"
    }
   ],
   "source": [
    "south_oy_16_18 = pd.read_sql(\"\"\"SELECT SUM(pwgtp) AS oy_count, puma\n",
    "                                FROM pums_2017 p\n",
    "                                WHERE puma BETWEEN '11610' AND '11615'\n",
    "                                AND (esr = '3' OR esr = '6')\n",
    "                                AND sch = '1'\n",
    "                                AND agep BETWEEN '16' AND '18'\n",
    "                                GROUP BY puma\n",
    "                                ;\"\"\", conn)\n",
    "south_oy_16_18_count = south_oy_16_18['oy_count'].sum()\n",
    "south_oy_16_18_count"
   ]
  },
  {
   "cell_type": "code",
   "execution_count": 111,
   "metadata": {},
   "outputs": [
    {
     "data": {
      "text/plain": [
       "3902.0"
      ]
     },
     "execution_count": 111,
     "metadata": {},
     "output_type": "execute_result"
    }
   ],
   "source": [
    "south_oy_19_21 = pd.read_sql(\"\"\"SELECT SUM(pwgtp) AS oy_count, puma\n",
    "                                FROM pums_2017 \n",
    "                                WHERE puma BETWEEN '11610' AND '11615'\n",
    "                                AND (esr = '3' OR esr = '6')\n",
    "                                AND sch = '1'\n",
    "                                AND agep BETWEEN '19' AND '21'\n",
    "                                GROUP BY puma\n",
    "                                ;\"\"\", conn)\n",
    "south_oy_19_21_count = south_oy_19_21['oy_count'].sum()\n",
    "south_oy_19_21_count"
   ]
  },
  {
   "cell_type": "code",
   "execution_count": 112,
   "metadata": {},
   "outputs": [
    {
     "data": {
      "text/plain": [
       "4897.0"
      ]
     },
     "execution_count": 112,
     "metadata": {},
     "output_type": "execute_result"
    }
   ],
   "source": [
    "south_oy_22_24 = pd.read_sql(\"\"\"SELECT SUM(pwgtp) AS oy_count, puma\n",
    "                                FROM pums_2017 \n",
    "                                WHERE puma BETWEEN '11610' AND '11615'\n",
    "                                AND (esr = '3' OR esr = '6')\n",
    "                                AND sch = '1'\n",
    "                                AND agep BETWEEN '22' AND '24'\n",
    "                                GROUP BY puma\n",
    "                                ;\"\"\", conn)\n",
    "south_oy_22_24_count = south_oy_22_24['oy_count'].sum()\n",
    "south_oy_22_24_count"
   ]
  },
  {
   "cell_type": "code",
   "execution_count": 113,
   "metadata": {},
   "outputs": [
    {
     "data": {
      "text/plain": [
       "True"
      ]
     },
     "execution_count": 113,
     "metadata": {},
     "output_type": "execute_result"
    }
   ],
   "source": [
    "south_oy_total == (south_oy_16_18_count + south_oy_19_21_count + south_oy_22_24_count)"
   ]
  },
  {
   "cell_type": "code",
   "execution_count": 114,
   "metadata": {},
   "outputs": [
    {
     "data": {
      "text/plain": [
       "85883.0"
      ]
     },
     "execution_count": 114,
     "metadata": {},
     "output_type": "execute_result"
    }
   ],
   "source": [
    "total_pop = pd.read_sql(\"\"\"SELECT SUM(pwgtp) AS pop_count, puma\n",
    "                                 FROM pums_2017 \n",
    "                                 WHERE agep BETWEEN '16' AND '24'\n",
    "                                 AND puma BETWEEN '11610' AND '11615'\n",
    "                                 GROUP BY puma\n",
    "                                 ;\"\"\", conn)\n",
    "total_pop_count = total_pop['pop_count'].sum()\n",
    "total_pop_count"
   ]
  },
  {
   "cell_type": "code",
   "execution_count": 115,
   "metadata": {},
   "outputs": [
    {
     "data": {
      "text/plain": [
       "30141.0"
      ]
     },
     "execution_count": 115,
     "metadata": {},
     "output_type": "execute_result"
    }
   ],
   "source": [
    "total_pop_16_18 = pd.read_sql(\"\"\"SELECT SUM(pwgtp) AS pop_count, puma\n",
    "                                 FROM pums_2017 \n",
    "                                 WHERE agep BETWEEN '16' AND '18'\n",
    "                                 AND puma BETWEEN '11610' AND '11615'\n",
    "                                 GROUP BY puma\n",
    "                                 ;\"\"\", conn)\n",
    "total_pop_16_18_count = total_pop_16_18['pop_count'].sum()\n",
    "total_pop_16_18_count"
   ]
  },
  {
   "cell_type": "code",
   "execution_count": 116,
   "metadata": {},
   "outputs": [
    {
     "data": {
      "text/plain": [
       "25486.0"
      ]
     },
     "execution_count": 116,
     "metadata": {},
     "output_type": "execute_result"
    }
   ],
   "source": [
    "total_pop_19_21 = pd.read_sql(\"\"\"SELECT SUM(pwgtp) AS pop_count, puma\n",
    "                                 FROM pums_2017 \n",
    "                                 WHERE agep BETWEEN '19' AND '21'\n",
    "                                 AND puma BETWEEN '11610' AND '11615'\n",
    "                                 GROUP BY puma\n",
    "                                 ;\"\"\", conn)\n",
    "total_pop_19_21_count = total_pop_19_21['pop_count'].sum()\n",
    "total_pop_19_21_count"
   ]
  },
  {
   "cell_type": "code",
   "execution_count": 117,
   "metadata": {},
   "outputs": [
    {
     "data": {
      "text/plain": [
       "30256.0"
      ]
     },
     "execution_count": 117,
     "metadata": {},
     "output_type": "execute_result"
    }
   ],
   "source": [
    "total_pop_22_24 = pd.read_sql(\"\"\"SELECT SUM(pwgtp) AS pop_count, puma\n",
    "                                 FROM pums_2017 \n",
    "                                 WHERE agep BETWEEN '22' AND '24'\n",
    "                                 AND puma BETWEEN '11610' AND '11615'\n",
    "                                 GROUP BY puma\n",
    "                                 ;\"\"\", conn)\n",
    "total_pop_22_24_count = total_pop_22_24['pop_count'].sum()\n",
    "total_pop_22_24_count"
   ]
  },
  {
   "cell_type": "code",
   "execution_count": 118,
   "metadata": {},
   "outputs": [
    {
     "data": {
      "text/plain": [
       "True"
      ]
     },
     "execution_count": 118,
     "metadata": {},
     "output_type": "execute_result"
    }
   ],
   "source": [
    "total_pop_count == (total_pop_16_18_count + total_pop_19_21_count + total_pop_22_24_count)"
   ]
  },
  {
   "cell_type": "code",
   "execution_count": 119,
   "metadata": {},
   "outputs": [
    {
     "data": {
      "text/plain": [
       "7712.0"
      ]
     },
     "execution_count": 119,
     "metadata": {},
     "output_type": "execute_result"
    }
   ],
   "source": [
    "work_no_diploma_total = pd.read_sql(\"\"\"SELECT SUM(pwgtp) AS pop_count, puma\n",
    "                                       FROM pums_2017 \n",
    "                                       WHERE puma BETWEEN '11610' AND '11615'\n",
    "                                       AND (esr != '3' AND esr != '6')\n",
    "                                       AND (cow != '9')\n",
    "                                       AND schl <= '15' \n",
    "                                       AND agep BETWEEN '16' AND '24'\n",
    "                                       GROUP BY puma\n",
    "                                       ;\"\"\", conn)\n",
    "work_no_diploma_total_count = work_no_diploma_total['pop_count'].sum()\n",
    "work_no_diploma_total_count"
   ]
  },
  {
   "cell_type": "code",
   "execution_count": 120,
   "metadata": {},
   "outputs": [
    {
     "data": {
      "text/plain": [
       "4377.0"
      ]
     },
     "execution_count": 120,
     "metadata": {},
     "output_type": "execute_result"
    }
   ],
   "source": [
    "work_no_diploma_16_18 = pd.read_sql(\"\"\"SELECT SUM(pwgtp) AS pop_count, puma\n",
    "                                       FROM pums_2017 \n",
    "                                       WHERE puma BETWEEN '11610' AND '11615'\n",
    "                                       AND (esr != '3' AND esr != '6')\n",
    "                                       AND (cow != '9')\n",
    "                                       AND schl <= '15' \n",
    "                                       AND agep BETWEEN '16' AND '18'\n",
    "                                       GROUP BY puma\n",
    "                                       ;\"\"\", conn)\n",
    "work_no_diploma_16_18_count = work_no_diploma_16_18['pop_count'].sum()\n",
    "work_no_diploma_16_18_count"
   ]
  },
  {
   "cell_type": "code",
   "execution_count": 121,
   "metadata": {},
   "outputs": [
    {
     "data": {
      "text/plain": [
       "1630.0"
      ]
     },
     "execution_count": 121,
     "metadata": {},
     "output_type": "execute_result"
    }
   ],
   "source": [
    "work_no_diploma_19_21 = pd.read_sql(\"\"\"SELECT SUM(pwgtp) AS pop_count, puma\n",
    "                                       FROM pums_2017 \n",
    "                                       WHERE puma BETWEEN '11610' AND '11615'\n",
    "                                       AND (esr != '3' AND esr != '6')\n",
    "                                       AND (cow != '9')\n",
    "                                       AND schl <= '15' \n",
    "                                       AND agep BETWEEN '19' AND '21'\n",
    "                                       GROUP BY puma\n",
    "                                       ;\"\"\", conn)\n",
    "work_no_diploma_19_21_count = work_no_diploma_19_21['pop_count'].sum()\n",
    "work_no_diploma_19_21_count"
   ]
  },
  {
   "cell_type": "code",
   "execution_count": 122,
   "metadata": {},
   "outputs": [
    {
     "data": {
      "text/plain": [
       "1705.0"
      ]
     },
     "execution_count": 122,
     "metadata": {},
     "output_type": "execute_result"
    }
   ],
   "source": [
    "work_no_diploma_22_24 = pd.read_sql(\"\"\"SELECT SUM(pwgtp) AS pop_count, puma\n",
    "                                       FROM pums_2017 \n",
    "                                       WHERE puma BETWEEN '11610' AND '11615'\n",
    "                                       AND (esr != '3' AND esr != '6')\n",
    "                                       AND (cow != '9')\n",
    "                                       AND schl <= '15' \n",
    "                                       AND agep BETWEEN '22' AND '24'\n",
    "                                       GROUP BY puma\n",
    "                                       ;\"\"\", conn)\n",
    "work_no_diploma_22_24_count = work_no_diploma_22_24['pop_count'].sum()\n",
    "work_no_diploma_22_24_count"
   ]
  },
  {
   "cell_type": "code",
   "execution_count": 123,
   "metadata": {},
   "outputs": [
    {
     "data": {
      "text/plain": [
       "True"
      ]
     },
     "execution_count": 123,
     "metadata": {},
     "output_type": "execute_result"
    }
   ],
   "source": [
    "work_no_diploma_total_count == (work_no_diploma_16_18_count + work_no_diploma_19_21_count + work_no_diploma_22_24_count)"
   ]
  },
  {
   "cell_type": "code",
   "execution_count": 124,
   "metadata": {},
   "outputs": [
    {
     "data": {
      "text/plain": [
       "67557.0"
      ]
     },
     "execution_count": 124,
     "metadata": {},
     "output_type": "execute_result"
    }
   ],
   "source": [
    "not_oy_total = total_pop_count - work_no_diploma_total_count - south_oy_total\n",
    "not_oy_total"
   ]
  },
  {
   "cell_type": "code",
   "execution_count": 125,
   "metadata": {},
   "outputs": [
    {
     "data": {
      "text/plain": [
       "23949.0"
      ]
     },
     "execution_count": 125,
     "metadata": {},
     "output_type": "execute_result"
    }
   ],
   "source": [
    "not_oy_16_18 = total_pop_16_18_count - south_oy_16_18_count - work_no_diploma_16_18_count\n",
    "not_oy_16_18"
   ]
  },
  {
   "cell_type": "code",
   "execution_count": 126,
   "metadata": {},
   "outputs": [
    {
     "data": {
      "text/plain": [
       "19954.0"
      ]
     },
     "execution_count": 126,
     "metadata": {},
     "output_type": "execute_result"
    }
   ],
   "source": [
    "not_oy_19_21 = total_pop_19_21_count - south_oy_19_21_count - work_no_diploma_19_21_count\n",
    "not_oy_19_21"
   ]
  },
  {
   "cell_type": "code",
   "execution_count": 2,
   "metadata": {},
   "outputs": [
    {
     "ename": "NameError",
     "evalue": "name 'total_pop_22_24_count' is not defined",
     "output_type": "error",
     "traceback": [
      "\u001b[0;31m---------------------------------------------------------------------------\u001b[0m",
      "\u001b[0;31mNameError\u001b[0m                                 Traceback (most recent call last)",
      "\u001b[0;32m<ipython-input-2-383178ac9322>\u001b[0m in \u001b[0;36m<module>\u001b[0;34m\u001b[0m\n\u001b[0;32m----> 1\u001b[0;31m \u001b[0mnot_oy_22_24\u001b[0m \u001b[0;34m=\u001b[0m \u001b[0mtotal_pop_22_24_count\u001b[0m \u001b[0;34m-\u001b[0m \u001b[0msouth_oy_22_24_count\u001b[0m \u001b[0;34m-\u001b[0m \u001b[0mwork_no_diploma_22_24_count\u001b[0m\u001b[0;34m\u001b[0m\u001b[0;34m\u001b[0m\u001b[0m\n\u001b[0m\u001b[1;32m      2\u001b[0m \u001b[0mnot_oy_22_24\u001b[0m\u001b[0;34m\u001b[0m\u001b[0;34m\u001b[0m\u001b[0m\n",
      "\u001b[0;31mNameError\u001b[0m: name 'total_pop_22_24_count' is not defined"
     ]
    }
   ],
   "source": [
    "not_oy_22_24 = total_pop_22_24_count - south_oy_22_24_count - work_no_diploma_22_24_count\n",
    "not_oy_22_24"
   ]
  },
  {
   "cell_type": "code",
   "execution_count": 1,
   "metadata": {},
   "outputs": [
    {
     "ename": "NameError",
     "evalue": "name 'pd' is not defined",
     "output_type": "error",
     "traceback": [
      "\u001b[0;31m---------------------------------------------------------------------------\u001b[0m",
      "\u001b[0;31mNameError\u001b[0m                                 Traceback (most recent call last)",
      "\u001b[0;32m<ipython-input-1-0b3586a84882>\u001b[0m in \u001b[0;36m<module>\u001b[0;34m\u001b[0m\n\u001b[0;32m----> 1\u001b[0;31m oy_no_dip1 = pd.read_sql(\"\"\"SELECT SUM(pwgtp) AS pop_count, puma\n\u001b[0m\u001b[1;32m      2\u001b[0m                             \u001b[0mFROM\u001b[0m \u001b[0mpums_2017\u001b[0m \u001b[0mp\u001b[0m\u001b[0;34m\u001b[0m\u001b[0;34m\u001b[0m\u001b[0m\n\u001b[1;32m      3\u001b[0m                             \u001b[0mWHERE\u001b[0m \u001b[0;34m(\u001b[0m\u001b[0magep\u001b[0m \u001b[0mBETWEEN\u001b[0m \u001b[0;34m'16'\u001b[0m \u001b[0mAND\u001b[0m \u001b[0;34m'18'\u001b[0m\u001b[0;34m)\u001b[0m\u001b[0;34m\u001b[0m\u001b[0;34m\u001b[0m\u001b[0m\n\u001b[1;32m      4\u001b[0m                             \u001b[0mAND\u001b[0m \u001b[0;34m(\u001b[0m\u001b[0mpuma\u001b[0m \u001b[0mBETWEEN\u001b[0m \u001b[0;34m'11610'\u001b[0m \u001b[0mAND\u001b[0m \u001b[0;34m'11615'\u001b[0m\u001b[0;34m)\u001b[0m\u001b[0;34m\u001b[0m\u001b[0;34m\u001b[0m\u001b[0m\n\u001b[1;32m      5\u001b[0m                             \u001b[0mAND\u001b[0m \u001b[0;34m(\u001b[0m\u001b[0msch\u001b[0m \u001b[0;34m=\u001b[0m \u001b[0;34m'1'\u001b[0m\u001b[0;34m)\u001b[0m\u001b[0;34m\u001b[0m\u001b[0;34m\u001b[0m\u001b[0m\n",
      "\u001b[0;31mNameError\u001b[0m: name 'pd' is not defined"
     ]
    }
   ],
   "source": []
  },
  {
   "cell_type": "code",
   "execution_count": null,
   "metadata": {},
   "outputs": [],
   "source": []
  },
  {
   "cell_type": "code",
   "execution_count": null,
   "metadata": {},
   "outputs": [],
   "source": []
  },
  {
   "cell_type": "code",
   "execution_count": null,
   "metadata": {},
   "outputs": [],
   "source": []
  }
 ],
 "metadata": {
  "kernelspec": {
   "display_name": "Python 3 (oy-env)",
   "language": "python",
   "name": "oy-env"
  },
  "language_info": {
   "codemirror_mode": {
    "name": "ipython",
    "version": 3
   },
   "file_extension": ".py",
   "mimetype": "text/x-python",
   "name": "python",
   "nbconvert_exporter": "python",
   "pygments_lexer": "ipython3",
   "version": "3.8.1"
  }
 },
 "nbformat": 4,
 "nbformat_minor": 4
}
