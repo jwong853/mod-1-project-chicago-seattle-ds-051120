{
 "cells": [
  {
   "cell_type": "code",
   "execution_count": 1,
   "metadata": {},
   "outputs": [],
   "source": [
    "%load_ext autoreload\n",
    "%autoreload 2"
   ]
  },
  {
   "cell_type": "code",
   "execution_count": 2,
   "metadata": {},
   "outputs": [],
   "source": [
    "import os\n",
    "import sys\n",
    "module_path = os.path.abspath(os.path.join(os.pardir, os.pardir))\n",
    "if module_path not in sys.path:\n",
    "    sys.path.append(module_path)"
   ]
  },
  {
   "cell_type": "code",
   "execution_count": 3,
   "metadata": {},
   "outputs": [],
   "source": [
    "import psycopg2\n",
    "import pandas as pd\n"
   ]
  },
  {
   "cell_type": "code",
   "execution_count": 4,
   "metadata": {},
   "outputs": [],
   "source": [
    "DBNAME = \"opportunity_youth\""
   ]
  },
  {
   "cell_type": "code",
   "execution_count": 5,
   "metadata": {},
   "outputs": [],
   "source": [
    "conn = psycopg2.connect(dbname=DBNAME)"
   ]
  },
  {
   "cell_type": "code",
   "execution_count": 6,
   "metadata": {},
   "outputs": [
    {
     "data": {
      "text/plain": [
       "10614.0"
      ]
     },
     "execution_count": 6,
     "metadata": {},
     "output_type": "execute_result"
    }
   ],
   "source": [
    "south_oy = pd.read_sql(\"\"\"SELECT SUM(pwgtp) AS oy_count, puma\n",
    "                          FROM pums_2017 \n",
    "                          WHERE puma BETWEEN '11610' AND '11615'\n",
    "                          AND (esr = '3' OR esr = '6')\n",
    "                          AND sch = '1'\n",
    "                          AND (agep BETWEEN '16' AND '24')\n",
    "                          GROUP BY puma\n",
    "                          ;\"\"\", conn)\n",
    "south_oy_total = south_oy['oy_count'].sum()\n",
    "south_oy_total"
   ]
  },
  {
   "cell_type": "code",
   "execution_count": 7,
   "metadata": {},
   "outputs": [
    {
     "data": {
      "text/plain": [
       "1815.0"
      ]
     },
     "execution_count": 7,
     "metadata": {},
     "output_type": "execute_result"
    }
   ],
   "source": [
    "south_oy_16_18 = pd.read_sql(\"\"\"SELECT SUM(pwgtp) AS oy_count, puma\n",
    "                                FROM pums_2017 p\n",
    "                                WHERE puma BETWEEN '11610' AND '11615'\n",
    "                                AND (esr = '3' OR esr = '6')\n",
    "                                AND sch = '1'\n",
    "                                AND agep BETWEEN '16' AND '18'\n",
    "                                GROUP BY puma\n",
    "                                ;\"\"\", conn)\n",
    "south_oy_16_18_count = south_oy_16_18['oy_count'].sum()\n",
    "south_oy_16_18_count"
   ]
  },
  {
   "cell_type": "code",
   "execution_count": 8,
   "metadata": {},
   "outputs": [
    {
     "data": {
      "text/plain": [
       "3902.0"
      ]
     },
     "execution_count": 8,
     "metadata": {},
     "output_type": "execute_result"
    }
   ],
   "source": [
    "south_oy_19_21 = pd.read_sql(\"\"\"SELECT SUM(pwgtp) AS oy_count, puma\n",
    "                                FROM pums_2017 \n",
    "                                WHERE puma BETWEEN '11610' AND '11615'\n",
    "                                AND (esr = '3' OR esr = '6')\n",
    "                                AND sch = '1'\n",
    "                                AND agep BETWEEN '19' AND '21'\n",
    "                                GROUP BY puma\n",
    "                                ;\"\"\", conn)\n",
    "south_oy_19_21_count = south_oy_19_21['oy_count'].sum()\n",
    "south_oy_19_21_count"
   ]
  },
  {
   "cell_type": "code",
   "execution_count": 9,
   "metadata": {},
   "outputs": [
    {
     "data": {
      "text/plain": [
       "4897.0"
      ]
     },
     "execution_count": 9,
     "metadata": {},
     "output_type": "execute_result"
    }
   ],
   "source": [
    "south_oy_22_24 = pd.read_sql(\"\"\"SELECT SUM(pwgtp) AS oy_count, puma\n",
    "                                FROM pums_2017 \n",
    "                                WHERE puma BETWEEN '11610' AND '11615'\n",
    "                                AND (esr = '3' OR esr = '6')\n",
    "                                AND sch = '1'\n",
    "                                AND agep BETWEEN '22' AND '24'\n",
    "                                GROUP BY puma\n",
    "                                ;\"\"\", conn)\n",
    "south_oy_22_24_count = south_oy_22_24['oy_count'].sum()\n",
    "south_oy_22_24_count"
   ]
  },
  {
   "cell_type": "code",
   "execution_count": 10,
   "metadata": {},
   "outputs": [
    {
     "data": {
      "text/plain": [
       "True"
      ]
     },
     "execution_count": 10,
     "metadata": {},
     "output_type": "execute_result"
    }
   ],
   "source": [
    "south_oy_total == (south_oy_16_18_count + south_oy_19_21_count + south_oy_22_24_count)"
   ]
  },
  {
   "cell_type": "code",
   "execution_count": 11,
   "metadata": {},
   "outputs": [
    {
     "data": {
      "text/plain": [
       "85883.0"
      ]
     },
     "execution_count": 11,
     "metadata": {},
     "output_type": "execute_result"
    }
   ],
   "source": [
    "total_pop = pd.read_sql(\"\"\"SELECT SUM(pwgtp) AS pop_count, puma\n",
    "                                 FROM pums_2017 \n",
    "                                 WHERE agep BETWEEN '16' AND '24'\n",
    "                                 AND puma BETWEEN '11610' AND '11615'\n",
    "                                 GROUP BY puma\n",
    "                                 ;\"\"\", conn)\n",
    "total_pop_count = total_pop['pop_count'].sum()\n",
    "total_pop_count"
   ]
  },
  {
   "cell_type": "code",
   "execution_count": 12,
   "metadata": {},
   "outputs": [
    {
     "data": {
      "text/plain": [
       "30141.0"
      ]
     },
     "execution_count": 12,
     "metadata": {},
     "output_type": "execute_result"
    }
   ],
   "source": [
    "total_pop_16_18 = pd.read_sql(\"\"\"SELECT SUM(pwgtp) AS pop_count, puma\n",
    "                                 FROM pums_2017 \n",
    "                                 WHERE agep BETWEEN '16' AND '18'\n",
    "                                 AND puma BETWEEN '11610' AND '11615'\n",
    "                                 GROUP BY puma\n",
    "                                 ;\"\"\", conn)\n",
    "total_pop_16_18_count = total_pop_16_18['pop_count'].sum()\n",
    "total_pop_16_18_count"
   ]
  },
  {
   "cell_type": "code",
   "execution_count": 13,
   "metadata": {},
   "outputs": [
    {
     "data": {
      "text/plain": [
       "25486.0"
      ]
     },
     "execution_count": 13,
     "metadata": {},
     "output_type": "execute_result"
    }
   ],
   "source": [
    "total_pop_19_21 = pd.read_sql(\"\"\"SELECT SUM(pwgtp) AS pop_count, puma\n",
    "                                 FROM pums_2017 \n",
    "                                 WHERE agep BETWEEN '19' AND '21'\n",
    "                                 AND puma BETWEEN '11610' AND '11615'\n",
    "                                 GROUP BY puma\n",
    "                                 ;\"\"\", conn)\n",
    "total_pop_19_21_count = total_pop_19_21['pop_count'].sum()\n",
    "total_pop_19_21_count"
   ]
  },
  {
   "cell_type": "code",
   "execution_count": 14,
   "metadata": {},
   "outputs": [
    {
     "data": {
      "text/plain": [
       "30256.0"
      ]
     },
     "execution_count": 14,
     "metadata": {},
     "output_type": "execute_result"
    }
   ],
   "source": [
    "total_pop_22_24 = pd.read_sql(\"\"\"SELECT SUM(pwgtp) AS pop_count, puma\n",
    "                                 FROM pums_2017 \n",
    "                                 WHERE agep BETWEEN '22' AND '24'\n",
    "                                 AND puma BETWEEN '11610' AND '11615'\n",
    "                                 GROUP BY puma\n",
    "                                 ;\"\"\", conn)\n",
    "total_pop_22_24_count = total_pop_22_24['pop_count'].sum()\n",
    "total_pop_22_24_count"
   ]
  },
  {
   "cell_type": "code",
   "execution_count": 15,
   "metadata": {},
   "outputs": [
    {
     "data": {
      "text/plain": [
       "True"
      ]
     },
     "execution_count": 15,
     "metadata": {},
     "output_type": "execute_result"
    }
   ],
   "source": [
    "total_pop_count == (total_pop_16_18_count + total_pop_19_21_count + total_pop_22_24_count)"
   ]
  },
  {
   "cell_type": "code",
   "execution_count": 16,
   "metadata": {},
   "outputs": [
    {
     "data": {
      "text/plain": [
       "7712.0"
      ]
     },
     "execution_count": 16,
     "metadata": {},
     "output_type": "execute_result"
    }
   ],
   "source": [
    "work_no_diploma_total = pd.read_sql(\"\"\"SELECT SUM(pwgtp) AS pop_count, puma\n",
    "                                       FROM pums_2017 \n",
    "                                       WHERE puma BETWEEN '11610' AND '11615'\n",
    "                                       AND (esr != '3' AND esr != '6')\n",
    "                                       AND (cow != '9')\n",
    "                                       AND schl <= '15' \n",
    "                                       AND agep BETWEEN '16' AND '24'\n",
    "                                       GROUP BY puma\n",
    "                                       ;\"\"\", conn)\n",
    "work_no_diploma_total_count = work_no_diploma_total['pop_count'].sum()\n",
    "work_no_diploma_total_count"
   ]
  },
  {
   "cell_type": "code",
   "execution_count": 17,
   "metadata": {},
   "outputs": [
    {
     "data": {
      "text/plain": [
       "4377.0"
      ]
     },
     "execution_count": 17,
     "metadata": {},
     "output_type": "execute_result"
    }
   ],
   "source": [
    "work_no_diploma_16_18 = pd.read_sql(\"\"\"SELECT SUM(pwgtp) AS pop_count, puma\n",
    "                                       FROM pums_2017 \n",
    "                                       WHERE puma BETWEEN '11610' AND '11615'\n",
    "                                       AND (esr != '3' AND esr != '6')\n",
    "                                       AND (cow != '9')\n",
    "                                       AND schl <= '15' \n",
    "                                       AND agep BETWEEN '16' AND '18'\n",
    "                                       GROUP BY puma\n",
    "                                       ;\"\"\", conn)\n",
    "work_no_diploma_16_18_count = work_no_diploma_16_18['pop_count'].sum()\n",
    "work_no_diploma_16_18_count"
   ]
  },
  {
   "cell_type": "code",
   "execution_count": 18,
   "metadata": {},
   "outputs": [
    {
     "data": {
      "text/plain": [
       "1630.0"
      ]
     },
     "execution_count": 18,
     "metadata": {},
     "output_type": "execute_result"
    }
   ],
   "source": [
    "work_no_diploma_19_21 = pd.read_sql(\"\"\"SELECT SUM(pwgtp) AS pop_count, puma\n",
    "                                       FROM pums_2017 \n",
    "                                       WHERE puma BETWEEN '11610' AND '11615'\n",
    "                                       AND (esr != '3' AND esr != '6')\n",
    "                                       AND (cow != '9')\n",
    "                                       AND schl <= '15' \n",
    "                                       AND agep BETWEEN '19' AND '21'\n",
    "                                       GROUP BY puma\n",
    "                                       ;\"\"\", conn)\n",
    "work_no_diploma_19_21_count = work_no_diploma_19_21['pop_count'].sum()\n",
    "work_no_diploma_19_21_count"
   ]
  },
  {
   "cell_type": "code",
   "execution_count": 19,
   "metadata": {},
   "outputs": [
    {
     "data": {
      "text/plain": [
       "1705.0"
      ]
     },
     "execution_count": 19,
     "metadata": {},
     "output_type": "execute_result"
    }
   ],
   "source": [
    "work_no_diploma_22_24 = pd.read_sql(\"\"\"SELECT SUM(pwgtp) AS pop_count, puma\n",
    "                                       FROM pums_2017 \n",
    "                                       WHERE puma BETWEEN '11610' AND '11615'\n",
    "                                       AND (esr != '3' AND esr != '6')\n",
    "                                       AND (cow != '9')\n",
    "                                       AND schl <= '15' \n",
    "                                       AND agep BETWEEN '22' AND '24'\n",
    "                                       GROUP BY puma\n",
    "                                       ;\"\"\", conn)\n",
    "work_no_diploma_22_24_count = work_no_diploma_22_24['pop_count'].sum()\n",
    "work_no_diploma_22_24_count"
   ]
  },
  {
   "cell_type": "code",
   "execution_count": 20,
   "metadata": {},
   "outputs": [
    {
     "data": {
      "text/plain": [
       "True"
      ]
     },
     "execution_count": 20,
     "metadata": {},
     "output_type": "execute_result"
    }
   ],
   "source": [
    "work_no_diploma_total_count == (work_no_diploma_16_18_count + work_no_diploma_19_21_count + work_no_diploma_22_24_count)"
   ]
  },
  {
   "cell_type": "code",
   "execution_count": 21,
   "metadata": {},
   "outputs": [
    {
     "data": {
      "text/plain": [
       "67557.0"
      ]
     },
     "execution_count": 21,
     "metadata": {},
     "output_type": "execute_result"
    }
   ],
   "source": [
    "not_oy_total = total_pop_count - work_no_diploma_total_count - south_oy_total\n",
    "not_oy_total"
   ]
  },
  {
   "cell_type": "code",
   "execution_count": 22,
   "metadata": {},
   "outputs": [
    {
     "data": {
      "text/plain": [
       "23949.0"
      ]
     },
     "execution_count": 22,
     "metadata": {},
     "output_type": "execute_result"
    }
   ],
   "source": [
    "not_oy_16_18 = total_pop_16_18_count - south_oy_16_18_count - work_no_diploma_16_18_count\n",
    "not_oy_16_18"
   ]
  },
  {
   "cell_type": "code",
   "execution_count": 23,
   "metadata": {},
   "outputs": [
    {
     "data": {
      "text/plain": [
       "19954.0"
      ]
     },
     "execution_count": 23,
     "metadata": {},
     "output_type": "execute_result"
    }
   ],
   "source": [
    "not_oy_19_21 = total_pop_19_21_count - south_oy_19_21_count - work_no_diploma_19_21_count\n",
    "not_oy_19_21"
   ]
  },
  {
   "cell_type": "code",
   "execution_count": 24,
   "metadata": {},
   "outputs": [
    {
     "data": {
      "text/plain": [
       "23654.0"
      ]
     },
     "execution_count": 24,
     "metadata": {},
     "output_type": "execute_result"
    }
   ],
   "source": [
    "not_oy_22_24 = total_pop_22_24_count - south_oy_22_24_count - work_no_diploma_22_24_count\n",
    "not_oy_22_24"
   ]
  },
  {
   "cell_type": "code",
   "execution_count": 25,
   "metadata": {},
   "outputs": [
    {
     "ename": "SyntaxError",
     "evalue": "invalid syntax (<ipython-input-25-b6a8ae84e208>, line 1)",
     "output_type": "error",
     "traceback": [
      "\u001b[0;36m  File \u001b[0;32m\"<ipython-input-25-b6a8ae84e208>\"\u001b[0;36m, line \u001b[0;32m1\u001b[0m\n\u001b[0;31m    CREATE TABLE updated_oy_test (Total Population,\u001b[0m\n\u001b[0m           ^\u001b[0m\n\u001b[0;31mSyntaxError\u001b[0m\u001b[0;31m:\u001b[0m invalid syntax\n"
     ]
    }
   ],
   "source": []
  },
  {
   "cell_type": "code",
   "execution_count": null,
   "metadata": {},
   "outputs": [],
   "source": []
  },
  {
   "cell_type": "code",
   "execution_count": null,
   "metadata": {},
   "outputs": [],
   "source": []
  },
  {
   "cell_type": "code",
   "execution_count": null,
   "metadata": {},
   "outputs": [],
   "source": []
  }
 ],
 "metadata": {
  "kernelspec": {
   "display_name": "Python 3 (oy-env)",
   "language": "python",
   "name": "oy-env"
  },
  "language_info": {
   "codemirror_mode": {
    "name": "ipython",
    "version": 3
   },
   "file_extension": ".py",
   "mimetype": "text/x-python",
   "name": "python",
   "nbconvert_exporter": "python",
   "pygments_lexer": "ipython3",
   "version": "3.8.1"
  }
 },
 "nbformat": 4,
 "nbformat_minor": 4
}
