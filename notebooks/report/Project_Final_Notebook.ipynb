{
 "cells": [
  {
   "cell_type": "markdown",
   "metadata": {},
   "source": [
    "### This project provides an updated estimate of the number of Opportunity Youth in South King county as compared to the 2016 report used by The Seattle Times.\n",
    "##### Updated by: Luluva Lakdawala, Jacob Prebys, Jason Wong"
   ]
  },
  {
   "cell_type": "markdown",
   "metadata": {},
   "source": [
    " "
   ]
  },
  {
   "cell_type": "markdown",
   "metadata": {},
   "source": [
    "#### Data Source: American Community Survey 2017 5-year [(ACS)](https://www.census.gov/programs-surveys/acs/about.html) Public Use Microdata Survey [(PUMS)](https://www.census.gov/programs-surveys/acs/technical-documentation/pums.html).\n",
    "##### The ACS provides vital information on an anual basis about America's people and places. pums provides untabulated  records of individual people and housing units. Opportunity Youth are classified as individuals within the Road Map Project region between the ages of 16-24 that are not enrolled in school or working."
   ]
  },
  {
   "cell_type": "markdown",
   "metadata": {},
   "source": [
    "###### This code will allow the notebook to re-import the source code located in src after being edited"
   ]
  },
  {
   "cell_type": "code",
   "execution_count": 3,
   "metadata": {},
   "outputs": [],
   "source": [
    "%load_ext autoreload\n",
    "%autoreload 2"
   ]
  },
  {
   "cell_type": "markdown",
   "metadata": {},
   "source": [
    "##### This path allows the notebook to import from the src module\n",
    "```\n",
    "├── notebooks          <- Jupyter notebooks. Naming convention is a number (for ordering)\n",
    "│   │                     followed by the topic of the notebook, e.g.\n",
    "│   │                     01_data_collection_exploration.ipynb\n",
    "│   └── exploratory    <- Raw, flow-of-consciousness, work-in-progress notebooks\n",
    "│   └── report         <- Final summary notebook(s)\n",
    "│\n",
    "├── src                <- Source code for use in this project\n",
    "│   ├── data           <- Scripts to download and query data\n",
    "│   │   ├── sql        <- SQL scripts. Naming convention is a number (for ordering)\n",
    "│   │   │                 followed by the topic of the script, e.g.\n",
    "│   │   │                 03_create_pums_2017_table.sql\n",
    "│   │   ├── data_collection.py\n",
    "│   │   └── sql_utils.py\n",
    "```"
   ]
  },
  {
   "cell_type": "markdown",
   "metadata": {},
   "source": [
    "##### Import the src code by going up two parent directories."
   ]
  },
  {
   "cell_type": "code",
   "execution_count": 4,
   "metadata": {},
   "outputs": [],
   "source": [
    "import os\n",
    "import sys\n",
    "module_path = os.path.abspath(os.path.join(os.pardir, os.pardir))\n",
    "if module_path not in sys.path:\n",
    "    sys.path.append(module_path)"
   ]
  },
  {
   "cell_type": "markdown",
   "metadata": {},
   "source": [
    "##### This code downloads the data needed by loading it into an SQL database."
   ]
  },
  {
   "cell_type": "code",
   "execution_count": 5,
   "metadata": {},
   "outputs": [],
   "source": [
    "from src.data import data_collection"
   ]
  },
  {
   "cell_type": "code",
   "execution_count": null,
   "metadata": {},
   "outputs": [],
   "source": [
    "data_collection.download_data_and_load_into_sql()"
   ]
  },
  {
   "cell_type": "markdown",
   "metadata": {},
   "source": [
    "##### We need to import psycopg2 as it is a very convenient PostgreSQL database adapter for Python. As well as pandas and matplotlib for data manipulation and visualization."
   ]
  },
  {
   "cell_type": "code",
   "execution_count": 9,
   "metadata": {},
   "outputs": [],
   "source": [
    "import psycopg2\n",
    "import pandas as pd\n",
    "import matplotlib.pyplot as plt\n",
    "%matplotlib inline"
   ]
  },
  {
   "cell_type": "code",
   "execution_count": 10,
   "metadata": {},
   "outputs": [],
   "source": [
    "DBNAME = 'opportunity_youth'"
   ]
  },
  {
   "cell_type": "code",
   "execution_count": 11,
   "metadata": {},
   "outputs": [],
   "source": [
    "conn = psycopg2.connect(dbname=DBNAME)"
   ]
  },
  {
   "cell_type": "markdown",
   "metadata": {},
   "source": [
    "### EVALUATION:\n",
    "##### Our analysis shows a 41% drop in the number of Opportunity Youth. The 2017 5-year ACS PUMS dataset shows there are 11,115 OY as opposed to 18,817 from the 2016 report."
   ]
  },
  {
   "cell_type": "markdown",
   "metadata": {},
   "source": [
    "### Updated Opportunity Youth Status by Age table"
   ]
  },
  {
   "cell_type": "code",
   "execution_count": 16,
   "metadata": {},
   "outputs": [
    {
     "data": {
      "image/png": "[encoded data removed]",
      "text/plain": [
       "<Figure size 432x288 with 1 Axes>"
      ]
     },
     "metadata": {
      "needs_background": "light"
     },
     "output_type": "display_data"
    }
   ],
   "source": [
    "\n",
    "image = mpimg.imread(\"./visualizations/OY_table.png\")\n",
    "plt.imshow(image)\n",
    "plt.show()"
   ]
  },
  {
   "cell_type": "markdown",
   "metadata": {},
   "source": [
    "### Exploratory Data Analysis explained\n",
    "##### Our analysis included exploring the daata and looking for any missing values or objects that needed to be replaced or removed completely. The PUMAs that are classified as in the Road Map Project region are the puma codes 11610-11615. After querying the tables for each PUMA we were able to query for specific age groups within each individual PUMA. Once we had the updated values from the database, we updated the table 'Opportunity Youth Status by Age'. The variables we used  to collect the appropriate data were:\n",
    "#### PUMA- Puma Code\n",
    "#### AGEP- Age\n",
    "#### ESR- Employment Status Code\n",
    "#### COW- Class of Worker\n",
    "#### SCH- School Enrollment Status\n",
    "#### SCHL- Educational Attainment\n",
    "#### We were able to restrict the age group from 16-24 in our queries but when it came to school and employment, things got a bit more complicated as there were a few different variables for them both."
   ]
  },
  {
   "cell_type": "code",
   "execution_count": 19,
   "metadata": {},
   "outputs": [
    {
     "data": {
      "text/html": [
       "<div>\n",
       "<style scoped>\n",
       "    .dataframe tbody tr th:only-of-type {\n",
       "        vertical-align: middle;\n",
       "    }\n",
       "\n",
       "    .dataframe tbody tr th {\n",
       "        vertical-align: top;\n",
       "    }\n",
       "\n",
       "    .dataframe thead th {\n",
       "        text-align: right;\n",
       "    }\n",
       "</style>\n",
       "<table border=\"1\" class=\"dataframe\">\n",
       "  <thead>\n",
       "    <tr style=\"text-align: right;\">\n",
       "      <th></th>\n",
       "      <th>serialno</th>\n",
       "      <th>agep</th>\n",
       "      <th>pwgtp</th>\n",
       "      <th>sex</th>\n",
       "      <th>schl</th>\n",
       "      <th>puma</th>\n",
       "      <th>puma_name</th>\n",
       "    </tr>\n",
       "  </thead>\n",
       "  <tbody>\n",
       "    <tr>\n",
       "      <th>0</th>\n",
       "      <td>2013000191868</td>\n",
       "      <td>94.0</td>\n",
       "      <td>28.0</td>\n",
       "      <td>1</td>\n",
       "      <td>19</td>\n",
       "      <td>11603</td>\n",
       "      <td>Seattle City (Downtown)--Queen Anne &amp; Magnolia...</td>\n",
       "    </tr>\n",
       "    <tr>\n",
       "      <th>1</th>\n",
       "      <td>2013000176281</td>\n",
       "      <td>94.0</td>\n",
       "      <td>24.0</td>\n",
       "      <td>1</td>\n",
       "      <td>18</td>\n",
       "      <td>10200</td>\n",
       "      <td>Skagit, Island &amp; San Juan Counties            ...</td>\n",
       "    </tr>\n",
       "    <tr>\n",
       "      <th>2</th>\n",
       "      <td>2013000069444</td>\n",
       "      <td>94.0</td>\n",
       "      <td>22.0</td>\n",
       "      <td>1</td>\n",
       "      <td>22</td>\n",
       "      <td>11609</td>\n",
       "      <td>King County (Central)--Sammamish, Issaquah, Me...</td>\n",
       "    </tr>\n",
       "    <tr>\n",
       "      <th>3</th>\n",
       "      <td>2013000365411</td>\n",
       "      <td>94.0</td>\n",
       "      <td>10.0</td>\n",
       "      <td>2</td>\n",
       "      <td>21</td>\n",
       "      <td>11103</td>\n",
       "      <td>Ventura County (Southwest)--Oxnard &amp; Port Huen...</td>\n",
       "    </tr>\n",
       "    <tr>\n",
       "      <th>4</th>\n",
       "      <td>2013000365411</td>\n",
       "      <td>94.0</td>\n",
       "      <td>10.0</td>\n",
       "      <td>2</td>\n",
       "      <td>21</td>\n",
       "      <td>11103</td>\n",
       "      <td>Clark County (Southeast)--Vancouver (East), Ca...</td>\n",
       "    </tr>\n",
       "    <tr>\n",
       "      <th>...</th>\n",
       "      <td>...</td>\n",
       "      <td>...</td>\n",
       "      <td>...</td>\n",
       "      <td>...</td>\n",
       "      <td>...</td>\n",
       "      <td>...</td>\n",
       "      <td>...</td>\n",
       "    </tr>\n",
       "    <tr>\n",
       "      <th>142062</th>\n",
       "      <td>2013000066554</td>\n",
       "      <td>16.0</td>\n",
       "      <td>14.0</td>\n",
       "      <td>1</td>\n",
       "      <td>13</td>\n",
       "      <td>11701</td>\n",
       "      <td>Snohomish County (Southwest)--Edmonds, Lynnwoo...</td>\n",
       "    </tr>\n",
       "    <tr>\n",
       "      <th>142063</th>\n",
       "      <td>2013000066554</td>\n",
       "      <td>16.0</td>\n",
       "      <td>14.0</td>\n",
       "      <td>1</td>\n",
       "      <td>13</td>\n",
       "      <td>11701</td>\n",
       "      <td>Seminole County (West)                        ...</td>\n",
       "    </tr>\n",
       "    <tr>\n",
       "      <th>142064</th>\n",
       "      <td>2013000295153</td>\n",
       "      <td>16.0</td>\n",
       "      <td>12.0</td>\n",
       "      <td>2</td>\n",
       "      <td>13</td>\n",
       "      <td>11611</td>\n",
       "      <td>King County (West Central)--Burien, SeaTac, Tu...</td>\n",
       "    </tr>\n",
       "    <tr>\n",
       "      <th>142065</th>\n",
       "      <td>2013000594659</td>\n",
       "      <td>16.0</td>\n",
       "      <td>70.0</td>\n",
       "      <td>2</td>\n",
       "      <td>14</td>\n",
       "      <td>11604</td>\n",
       "      <td>Seattle City (Southeast)--Capitol Hill        ...</td>\n",
       "    </tr>\n",
       "    <tr>\n",
       "      <th>142066</th>\n",
       "      <td>2013000179295</td>\n",
       "      <td>16.0</td>\n",
       "      <td>74.0</td>\n",
       "      <td>1</td>\n",
       "      <td>13</td>\n",
       "      <td>11612</td>\n",
       "      <td>King County (Far Southwest)--Federal Way, Des ...</td>\n",
       "    </tr>\n",
       "  </tbody>\n",
       "</table>\n",
       "<p>142067 rows × 7 columns</p>\n",
       "</div>"
      ],
      "text/plain": [
       "             serialno  agep  pwgtp sex schl   puma  \\\n",
       "0       2013000191868  94.0   28.0   1   19  11603   \n",
       "1       2013000176281  94.0   24.0   1   18  10200   \n",
       "2       2013000069444  94.0   22.0   1   22  11609   \n",
       "3       2013000365411  94.0   10.0   2   21  11103   \n",
       "4       2013000365411  94.0   10.0   2   21  11103   \n",
       "...               ...   ...    ...  ..  ...    ...   \n",
       "142062  2013000066554  16.0   14.0   1   13  11701   \n",
       "142063  2013000066554  16.0   14.0   1   13  11701   \n",
       "142064  2013000295153  16.0   12.0   2   13  11611   \n",
       "142065  2013000594659  16.0   70.0   2   14  11604   \n",
       "142066  2013000179295  16.0   74.0   1   13  11612   \n",
       "\n",
       "                                                puma_name  \n",
       "0       Seattle City (Downtown)--Queen Anne & Magnolia...  \n",
       "1       Skagit, Island & San Juan Counties            ...  \n",
       "2       King County (Central)--Sammamish, Issaquah, Me...  \n",
       "3       Ventura County (Southwest)--Oxnard & Port Huen...  \n",
       "4       Clark County (Southeast)--Vancouver (East), Ca...  \n",
       "...                                                   ...  \n",
       "142062  Snohomish County (Southwest)--Edmonds, Lynnwoo...  \n",
       "142063  Seminole County (West)                        ...  \n",
       "142064  King County (West Central)--Burien, SeaTac, Tu...  \n",
       "142065  Seattle City (Southeast)--Capitol Hill        ...  \n",
       "142066  King County (Far Southwest)--Federal Way, Des ...  \n",
       "\n",
       "[142067 rows x 7 columns]"
      ]
     },
     "execution_count": 19,
     "metadata": {},
     "output_type": "execute_result"
    }
   ],
   "source": [
    "pd.read_sql(\"\"\"SELECT \n",
    "                serialno,\n",
    "                agep,\n",
    "                pwgtp,\n",
    "                sex,\n",
    "                schl,\n",
    "                puma,\n",
    "                puma_name\n",
    "                FROM pums_2017 p2\n",
    "                JOIN puma_names_2010 pn USING(puma)\n",
    "                WHERE agep BETWEEN '16' AND '24'\n",
    "                AND puma BETWEEN '11610' AND '11615'\n",
    "                AND esr = '3' OR esr = '6'\n",
    "                AND sch = '1'\n",
    "                ORDER BY ageP DESC;\"\"\", conn)"
   ]
  },
  {
   "cell_type": "code",
   "execution_count": 20,
   "metadata": {},
   "outputs": [
    {
     "data": {
      "text/html": [
       "<div>\n",
       "<style scoped>\n",
       "    .dataframe tbody tr th:only-of-type {\n",
       "        vertical-align: middle;\n",
       "    }\n",
       "\n",
       "    .dataframe tbody tr th {\n",
       "        vertical-align: top;\n",
       "    }\n",
       "\n",
       "    .dataframe thead th {\n",
       "        text-align: right;\n",
       "    }\n",
       "</style>\n",
       "<table border=\"1\" class=\"dataframe\">\n",
       "  <thead>\n",
       "    <tr style=\"text-align: right;\">\n",
       "      <th></th>\n",
       "      <th>oy_count</th>\n",
       "      <th>puma_name</th>\n",
       "    </tr>\n",
       "  </thead>\n",
       "  <tbody>\n",
       "    <tr>\n",
       "      <th>0</th>\n",
       "      <td>1853.0</td>\n",
       "      <td>King County (Central)--Renton City, Fairwood, ...</td>\n",
       "    </tr>\n",
       "    <tr>\n",
       "      <th>1</th>\n",
       "      <td>1977.0</td>\n",
       "      <td>King County (Far Southwest)--Federal Way, Des ...</td>\n",
       "    </tr>\n",
       "    <tr>\n",
       "      <th>2</th>\n",
       "      <td>1210.0</td>\n",
       "      <td>King County (Southeast)--Maple Valley, Covingt...</td>\n",
       "    </tr>\n",
       "    <tr>\n",
       "      <th>3</th>\n",
       "      <td>2006.0</td>\n",
       "      <td>King County (Southwest Central)--Kent City    ...</td>\n",
       "    </tr>\n",
       "    <tr>\n",
       "      <th>4</th>\n",
       "      <td>1530.0</td>\n",
       "      <td>King County (Southwest)--Auburn City &amp; Lakelan...</td>\n",
       "    </tr>\n",
       "    <tr>\n",
       "      <th>5</th>\n",
       "      <td>2038.0</td>\n",
       "      <td>King County (West Central)--Burien, SeaTac, Tu...</td>\n",
       "    </tr>\n",
       "  </tbody>\n",
       "</table>\n",
       "</div>"
      ],
      "text/plain": [
       "   oy_count                                          puma_name\n",
       "0    1853.0  King County (Central)--Renton City, Fairwood, ...\n",
       "1    1977.0  King County (Far Southwest)--Federal Way, Des ...\n",
       "2    1210.0  King County (Southeast)--Maple Valley, Covingt...\n",
       "3    2006.0  King County (Southwest Central)--Kent City    ...\n",
       "4    1530.0  King County (Southwest)--Auburn City & Lakelan...\n",
       "5    2038.0  King County (West Central)--Burien, SeaTac, Tu..."
      ]
     },
     "execution_count": 20,
     "metadata": {},
     "output_type": "execute_result"
    }
   ],
   "source": [
    "oy_PUMA = pd.read_sql(\"\"\"SELECT SUM(pwgtp) AS oy_count, n.puma_name\n",
    "               FROM pums_2017 p\n",
    "               JOIN puma_names_2010 n\n",
    "               ON p.puma = n.puma\n",
    "               WHERE p.puma BETWEEN '11610' AND '11615'\n",
    "               AND (p.esr = '3' OR p.esr = '6')\n",
    "               AND p.sch = '1'\n",
    "               AND p.agep BETWEEN '16' AND '24'\n",
    "               GROUP BY n.puma_name\n",
    "               ;\"\"\", conn)\n",
    "oy_PUMA"
   ]
  },
  {
   "cell_type": "code",
   "execution_count": 18,
   "metadata": {},
   "outputs": [
    {
     "data": {
      "image/png": "[encoded data removed]",
      "text/plain": [
       "<Figure size 432x288 with 1 Axes>"
      ]
     },
     "metadata": {
      "needs_background": "light"
     },
     "output_type": "display_data"
    }
   ],
   "source": [
    "import matplotlib.image as mpimg\n",
    "image = mpimg.imread(\"./visualizations/oy_king.png\")\n",
    "plt.imshow(image)\n",
    "plt.show()"
   ]
  },
  {
   "cell_type": "markdown",
   "metadata": {},
   "source": [
    "#### We can see from the graph above that the number of OY are much greater in the South King County as opposed to the rest of King County."
   ]
  },
  {
   "cell_type": "markdown",
   "metadata": {},
   "source": [
    "#### We chose to look at cognitive difficulty, and if an OY has recently given birth as factors that could affect the results."
   ]
  },
  {
   "cell_type": "markdown",
   "metadata": {},
   "source": [
    "### Cognitive difficulty"
   ]
  },
  {
   "cell_type": "code",
   "execution_count": 21,
   "metadata": {},
   "outputs": [
    {
     "data": {
      "text/plain": [
       "1182.0"
      ]
     },
     "execution_count": 21,
     "metadata": {},
     "output_type": "execute_result"
    }
   ],
   "source": [
    "cog = pd.read_sql(\"\"\"SELECT SUM(pwgtp) AS oy_count, puma\n",
    "                          FROM pums_2017 \n",
    "                          WHERE puma BETWEEN '11610' AND '11615'\n",
    "                          AND (esr = '3' OR esr = '6')\n",
    "                          AND sch = '1'\n",
    "                          AND agep BETWEEN '16' AND '24'\n",
    "                          AND drem = '1'\n",
    "                          GROUP BY puma\n",
    "                          ;\"\"\", conn)\n",
    "cognitive_diff = cog['oy_count'].sum()\n",
    "cognitive_diff"
   ]
  },
  {
   "cell_type": "markdown",
   "metadata": {},
   "source": [
    "There are 1,182 OY that have cognitive difficulty"
   ]
  },
  {
   "cell_type": "markdown",
   "metadata": {},
   "source": [
    "### Given birth in the past 12 months and still using the same OY parameters"
   ]
  },
  {
   "cell_type": "code",
   "execution_count": 22,
   "metadata": {},
   "outputs": [
    {
     "data": {
      "text/plain": [
       "1028.0"
      ]
     },
     "execution_count": 22,
     "metadata": {},
     "output_type": "execute_result"
    }
   ],
   "source": [
    "birth = pd.read_sql(\"\"\"SELECT SUM(pwgtp) AS oy_count, puma\n",
    "                          FROM pums_2017 \n",
    "                          WHERE puma BETWEEN '11610' AND '11615'\n",
    "                          AND (esr = '3' OR esr = '6')\n",
    "                          AND sch = '1'\n",
    "                          AND sex = '2'\n",
    "                          AND fer = '1'\n",
    "                          AND agep BETWEEN '16' AND '24'\n",
    "                          GROUP BY puma\n",
    "                          ;\"\"\", conn)\n",
    "given_birth = birth['oy_count'].sum()\n",
    "given_birth"
   ]
  },
  {
   "cell_type": "markdown",
   "metadata": {},
   "source": [
    "##### 1028 OY out of 5,665 female OY have given birth within the past year."
   ]
  },
  {
   "cell_type": "markdown",
   "metadata": {},
   "source": [
    " "
   ]
  },
  {
   "cell_type": "markdown",
   "metadata": {},
   "source": [
    "### Conclusion\n",
    "\n",
    "#### The number of OY in the Road Map Project region have dropped but no significantly since the 2016 report. This demographic is most concentrated in the south areas of King County. The number of OY that currently have an Associates Degree or higher dropped most significantly from 1,917 to 506 OY. PUMA 11614, Auburn city area have more younger OYs when compared to the rest of the PUMAs within South King county.\n",
    "#### This project was of considerable importance for many reasons. Each Opportunity Youth costs an estimated $704,020.00 of lost earnings over their lifetime. The Opportunity Youths' contributions to the workforce are undervalued due to socioeconomic barriers such as racial bias and lack of exposure to career focused learning opportunities. "
   ]
  },
  {
   "cell_type": "markdown",
   "metadata": {},
   "source": [
    "## Citations\n",
    "\n",
    "<sup>1</sup> Yohalem, N., Cooley, S. 2016. “Opportunity Youth in the Road Map Project Region”. Community Center for Education Results. Available at: https://bit.ly/2P2XRF3.\n",
    "\n",
    "<sup>2</sup> Anderson, T., Braga, B., Derrick-Mills, T., Dodkowitz, A., Peters, E., Runes, C., and Winkler, M. 2019. “New Insights into the Back on Track Model’s Effects on Opportunity Youth Outcomes”. Urban Institute. Available at: https://bit.ly/2BuCLr1.\n",
    "\n",
    "<sup>3</sup> Seattle Region Partnership. 2016. “King County Opportunity Youth Overview: Demographics of opportunity youth and systemic barriers to employment”. Available at: https://bit.ly/2oRGz37.\n",
    "\n",
    "<sup>4</sup> Morton, N. 2019. “Nearly 19,000 youth in King County are neither working nor in school. How one Seattle nonprofit is changing that.” The Seattle Times. Available at: https://bit.ly/2W5EufR."
   ]
  },
  {
   "cell_type": "code",
   "execution_count": null,
   "metadata": {},
   "outputs": [],
   "source": []
  }
 ],
 "metadata": {
  "kernelspec": {
   "display_name": "Python 3 (oy-env)",
   "language": "python",
   "name": "oy-env"
  },
  "language_info": {
   "codemirror_mode": {
    "name": "ipython",
    "version": 3
   },
   "file_extension": ".py",
   "mimetype": "text/x-python",
   "name": "python",
   "nbconvert_exporter": "python",
   "pygments_lexer": "ipython3",
   "version": "3.8.1"
  }
 },
 "nbformat": 4,
 "nbformat_minor": 4
}
